{
 "cells": [
  {
   "cell_type": "markdown",
   "metadata": {},
   "source": [
    "# A method to correct precipitation fields for ocean models."
   ]
  },
  {
   "cell_type": "markdown",
   "metadata": {},
   "source": [
    "*R. Dussin*"
   ]
  },
  {
   "cell_type": "markdown",
   "metadata": {},
   "source": [
    "## 1. Regridding GPCP v2.3 to ERAinterim grid"
   ]
  },
  {
   "cell_type": "markdown",
   "metadata": {},
   "source": [
    "The first step is to regrid the satelite-based precipitations onto the Atmospheric reanalyse grid. This can be done easily with xesmf."
   ]
  },
  {
   "cell_type": "code",
   "execution_count": 1,
   "metadata": {},
   "outputs": [],
   "source": [
    "import xarray as xr\n",
    "import numpy as np"
   ]
  },
  {
   "cell_type": "code",
   "execution_count": 2,
   "metadata": {},
   "outputs": [],
   "source": [
    "gpcpdir = '/Users/raphael/STORAGE/GPCP2.3/'\n",
    "gpcp = xr.open_dataset(gpcpdir + 'precip.mon.mean.nc')"
   ]
  },
  {
   "cell_type": "code",
   "execution_count": 3,
   "metadata": {},
   "outputs": [
    {
     "data": {
      "text/html": [
       "<pre>&lt;xarray.DataArray &#x27;precip&#x27; (time: 482, lat: 72, lon: 144)&gt;\n",
       "[4997376 values with dtype=float32]\n",
       "Coordinates:\n",
       "  * lat      (lat) float32 -88.75 -86.25 -83.75 -81.25 ... 83.75 86.25 88.75\n",
       "  * lon      (lon) float32 1.25 3.75 6.25 8.75 ... 351.25 353.75 356.25 358.75\n",
       "  * time     (time) datetime64[ns] 1979-01-01 1979-02-01 ... 2019-02-01\n",
       "Attributes:\n",
       "    long_name:     Average Monthly Rate of Precipitation\n",
       "    valid_range:   [  0. 100.]\n",
       "    units:         mm/day\n",
       "    precision:     32767\n",
       "    var_desc:      Precipitation\n",
       "    dataset:       GPCP Version 2.3 Combined Precipitation Dataset\n",
       "    level_desc:    Surface\n",
       "    statistic:     Mean\n",
       "    parent_stat:   Mean\n",
       "    actual_range:  [0.00000e+00 9.96921e+36]</pre>"
      ],
      "text/plain": [
       "<xarray.DataArray 'precip' (time: 482, lat: 72, lon: 144)>\n",
       "[4997376 values with dtype=float32]\n",
       "Coordinates:\n",
       "  * lat      (lat) float32 -88.75 -86.25 -83.75 -81.25 ... 83.75 86.25 88.75\n",
       "  * lon      (lon) float32 1.25 3.75 6.25 8.75 ... 351.25 353.75 356.25 358.75\n",
       "  * time     (time) datetime64[ns] 1979-01-01 1979-02-01 ... 2019-02-01\n",
       "Attributes:\n",
       "    long_name:     Average Monthly Rate of Precipitation\n",
       "    valid_range:   [  0. 100.]\n",
       "    units:         mm/day\n",
       "    precision:     32767\n",
       "    var_desc:      Precipitation\n",
       "    dataset:       GPCP Version 2.3 Combined Precipitation Dataset\n",
       "    level_desc:    Surface\n",
       "    statistic:     Mean\n",
       "    parent_stat:   Mean\n",
       "    actual_range:  [0.00000e+00 9.96921e+36]"
      ]
     },
     "execution_count": 3,
     "metadata": {},
     "output_type": "execute_result"
    }
   ],
   "source": [
    "gpcp['precip']"
   ]
  },
  {
   "cell_type": "code",
   "execution_count": 4,
   "metadata": {},
   "outputs": [],
   "source": [
    "import xesmf"
   ]
  },
  {
   "cell_type": "code",
   "execution_count": 5,
   "metadata": {},
   "outputs": [],
   "source": [
    "erai_dir = '/Volumes/L4/ERAinterim/nc_daily/'"
   ]
  },
  {
   "cell_type": "code",
   "execution_count": 6,
   "metadata": {},
   "outputs": [],
   "source": [
    "erai_grid = xr.open_dataset(f'{erai_dir}/precip_ERAinterim_1979_daily.nc', decode_times=False, drop_variables=['time', 'precip'])"
   ]
  },
  {
   "cell_type": "code",
   "execution_count": 7,
   "metadata": {},
   "outputs": [
    {
     "data": {
      "text/html": [
       "<pre>&lt;xarray.Dataset&gt;\n",
       "Dimensions:  (lat: 256, lon: 512)\n",
       "Coordinates:\n",
       "  * lat      (lat) float64 89.46 88.77 88.07 87.37 ... -88.07 -88.77 -89.46\n",
       "  * lon      (lon) float64 0.0 0.7031 1.406 2.109 ... 357.2 357.9 358.6 359.3\n",
       "Data variables:\n",
       "    *empty*</pre>"
      ],
      "text/plain": [
       "<xarray.Dataset>\n",
       "Dimensions:  (lat: 256, lon: 512)\n",
       "Coordinates:\n",
       "  * lat      (lat) float64 89.46 88.77 88.07 87.37 ... -88.07 -88.77 -89.46\n",
       "  * lon      (lon) float64 0.0 0.7031 1.406 2.109 ... 357.2 357.9 358.6 359.3\n",
       "Data variables:\n",
       "    *empty*"
      ]
     },
     "execution_count": 7,
     "metadata": {},
     "output_type": "execute_result"
    }
   ],
   "source": [
    "erai_grid"
   ]
  },
  {
   "cell_type": "markdown",
   "metadata": {},
   "source": [
    "Now let's add the cell edges:"
   ]
  },
  {
   "cell_type": "code",
   "execution_count": 8,
   "metadata": {},
   "outputs": [],
   "source": [
    "# ERA-interim\n",
    "\n",
    "lon = erai_grid['lon'].values\n",
    "lon_bnds = np.concatenate((np.array([lon[0] -0.5 * 0.7031]), 0.5 * (lon[:-1] + lon[1:]), np.array([lon[-1] + 0.5 * 0.7031])), axis=0)\n",
    "\n",
    "lat = erai_grid['lat'].values\n",
    "lat_bnds = np.concatenate((np.array([90]), 0.5 * (lat[:-1] + lat[1:]), np.array([90])), axis=0)\n",
    "\n",
    "erai_grid['lon_b'] = xr.DataArray(data=lon_bnds, dims=('lonp1'))\n",
    "erai_grid['lat_b'] = xr.DataArray(data=lat_bnds, dims=('latp1'))"
   ]
  },
  {
   "cell_type": "code",
   "execution_count": 9,
   "metadata": {},
   "outputs": [
    {
     "data": {
      "text/html": [
       "<pre>&lt;xarray.Dataset&gt;\n",
       "Dimensions:  (lat: 256, latp1: 257, lon: 512, lonp1: 513)\n",
       "Coordinates:\n",
       "  * lat      (lat) float64 89.46 88.77 88.07 87.37 ... -88.07 -88.77 -89.46\n",
       "  * lon      (lon) float64 0.0 0.7031 1.406 2.109 ... 357.2 357.9 358.6 359.3\n",
       "Dimensions without coordinates: latp1, lonp1\n",
       "Data variables:\n",
       "    lon_b    (lonp1) float64 -0.3515 0.3516 1.055 1.758 ... 358.2 358.9 359.6\n",
       "    lat_b    (latp1) float64 90.0 89.11 88.42 87.72 ... -88.42 -89.11 90.0</pre>"
      ],
      "text/plain": [
       "<xarray.Dataset>\n",
       "Dimensions:  (lat: 256, latp1: 257, lon: 512, lonp1: 513)\n",
       "Coordinates:\n",
       "  * lat      (lat) float64 89.46 88.77 88.07 87.37 ... -88.07 -88.77 -89.46\n",
       "  * lon      (lon) float64 0.0 0.7031 1.406 2.109 ... 357.2 357.9 358.6 359.3\n",
       "Dimensions without coordinates: latp1, lonp1\n",
       "Data variables:\n",
       "    lon_b    (lonp1) float64 -0.3515 0.3516 1.055 1.758 ... 358.2 358.9 359.6\n",
       "    lat_b    (latp1) float64 90.0 89.11 88.42 87.72 ... -88.42 -89.11 90.0"
      ]
     },
     "execution_count": 9,
     "metadata": {},
     "output_type": "execute_result"
    }
   ],
   "source": [
    "erai_grid"
   ]
  },
  {
   "cell_type": "code",
   "execution_count": 10,
   "metadata": {},
   "outputs": [],
   "source": [
    "# GPCP\n",
    "\n",
    "gpcp['lon_b'] = xr.DataArray(data=np.arange(0,360+2.5,2.5), dims=('lonp1'))\n",
    "gpcp['lat_b'] = xr.DataArray(data=np.arange(-90,90+2.5,2.5), dims=('latp1'))"
   ]
  },
  {
   "cell_type": "code",
   "execution_count": 11,
   "metadata": {},
   "outputs": [
    {
     "name": "stdout",
     "output_type": "stream",
     "text": [
      "Overwrite existing file: conservative_72x144_256x512.nc \n",
      " You can set reuse_weights=True to save computing time.\n"
     ]
    }
   ],
   "source": [
    "gpcp2erai = xesmf.Regridder(gpcp, erai_grid, 'conservative', periodic=True)"
   ]
  },
  {
   "cell_type": "code",
   "execution_count": 12,
   "metadata": {},
   "outputs": [],
   "source": [
    "gpcp_precip_interp = gpcp2erai(gpcp['precip'])"
   ]
  },
  {
   "cell_type": "code",
   "execution_count": 13,
   "metadata": {},
   "outputs": [
    {
     "data": {
      "text/plain": [
       "<matplotlib.collections.QuadMesh at 0x129d1e588>"
      ]
     },
     "execution_count": 13,
     "metadata": {},
     "output_type": "execute_result"
    },
    {
     "data": {
      "image/png": "[encoded data removed]",
      "text/plain": [
       "<Figure size 432x288 with 2 Axes>"
      ]
     },
     "metadata": {
      "needs_background": "light"
     },
     "output_type": "display_data"
    }
   ],
   "source": [
    "gpcp_precip_interp.sel(time='2016-1').plot()"
   ]
  },
  {
   "cell_type": "code",
   "execution_count": 34,
   "metadata": {},
   "outputs": [],
   "source": [
    "gpcp_regridded = xr.Dataset()\n",
    "gpcp_regridded['precip'] = gpcp_precip_interp\n",
    "gpcp_regridded.to_netcdf('/Volumes/L4/GPCP_v2.3_256x512.nc')"
   ]
  },
  {
   "cell_type": "markdown",
   "metadata": {},
   "source": [
    "## 2. Generate new dataset"
   ]
  },
  {
   "cell_type": "markdown",
   "metadata": {},
   "source": [
    "### Functions"
   ]
  },
  {
   "cell_type": "code",
   "execution_count": 14,
   "metadata": {},
   "outputs": [],
   "source": [
    "def cumul_precip(da):\n",
    "    ''' apply cumsum and scale data array'''\n",
    "    # create cumulated precip\n",
    "    da_cs = da.cumsum(dim='time')\n",
    "    # concat with zero initial value, needed for decumul\n",
    "    zeroslice = xr.zeros_like(da_cs.isel(time=0))\n",
    "    da_cs = xr.concat([zeroslice, da_cs], dim='time')\n",
    "    return da_cs\n",
    "\n",
    "def normalize_cumulated_precip(da):\n",
    "    # normalize to the last value\n",
    "    #print(da.isel(time=-1).min())\n",
    "    norm = da.isel(time=-1).clip(min=1e-15)\n",
    "    #print(norm.min().values)\n",
    "    da_scaled = da / norm\n",
    "    return da_scaled\n",
    "\n",
    "def decumul_precip(da):\n",
    "    out = da.diff('time')\n",
    "    return out"
   ]
  },
  {
   "cell_type": "markdown",
   "metadata": {},
   "source": [
    "### Method"
   ]
  },
  {
   "cell_type": "markdown",
   "metadata": {},
   "source": [
    "* extract monthly data from ERAinterim yearly file\n",
    "* cumul/scale the data and reserve\n",
    "* conservative regridding of monthly GPCP onto ERAinterim grid\n",
    "* total precip in GPCP = avg monthly value * ndays_in_month\n",
    "* rescale the cumulative sum with GPCP value (smoothing required?)\n",
    "* run decumulation"
   ]
  },
  {
   "cell_type": "markdown",
   "metadata": {},
   "source": [
    "### Compute"
   ]
  },
  {
   "cell_type": "code",
   "execution_count": 30,
   "metadata": {},
   "outputs": [],
   "source": [
    "def process_one_year(ds_erai, da_gpcp):\n",
    "    current_year = ds_erai.time.dt.year[0].values\n",
    "    print(current_year)\n",
    "    ds_out = xr.zeros_like(ds_erai)\n",
    "    for month in range(12):\n",
    "        cmonth = str(month+1).zfill(2)\n",
    "        data_month = ds_erai['precip'].sel(time=f'{current_year}-{cmonth}')\n",
    "        ndays = len(data_month.time)\n",
    "        #print(data_month.time)\n",
    "        cumul = cumul_precip(data_month.clip(min=0))\n",
    "        cumul_normed = normalize_cumulated_precip(cumul)\n",
    "        new_total = da_gpcp.sel(time=f'{current_year}-{cmonth}').values.squeeze()\n",
    "        new_total = new_total * ndays / 1000  # total precip in meters\n",
    "        ny, nx = new_total.shape\n",
    "        new_data_month = decumul_precip(cumul_normed.transpose(*('time', 'lat', 'lon')) * new_total) * 1000 / 86400 # kg.m-2.s-1\n",
    "        if month == 0:\n",
    "            da_out = new_data_month.copy()\n",
    "        else:\n",
    "            da_out = xr.concat([da_out, new_data_month], dim='time')\n",
    "    ds_out['precip'] = da_out\n",
    "    return ds_out"
   ]
  },
  {
   "cell_type": "code",
   "execution_count": 16,
   "metadata": {},
   "outputs": [],
   "source": [
    "from dask.distributed import Client, LocalCluster\n",
    "cluster = LocalCluster()"
   ]
  },
  {
   "cell_type": "code",
   "execution_count": 17,
   "metadata": {},
   "outputs": [
    {
     "data": {
      "text/html": [
       "<table style=\"border: 2px solid white;\">\n",
       "<tr>\n",
       "<td style=\"vertical-align: top; border: 0px solid white\">\n",
       "<h3 style=\"text-align: left;\">Client</h3>\n",
       "<ul style=\"text-align: left; list-style: none; margin: 0; padding: 0;\">\n",
       "  <li><b>Scheduler: </b>tcp://127.0.0.1:58115</li>\n",
       "  <li><b>Dashboard: </b><a href='http://127.0.0.1:8787/status' target='_blank'>http://127.0.0.1:8787/status</a>\n",
       "</ul>\n",
       "</td>\n",
       "<td style=\"vertical-align: top; border: 0px solid white\">\n",
       "<h3 style=\"text-align: left;\">Cluster</h3>\n",
       "<ul style=\"text-align: left; list-style:none; margin: 0; padding: 0;\">\n",
       "  <li><b>Workers: </b>4</li>\n",
       "  <li><b>Cores: </b>8</li>\n",
       "  <li><b>Memory: </b>17.18 GB</li>\n",
       "</ul>\n",
       "</td>\n",
       "</tr>\n",
       "</table>"
      ],
      "text/plain": [
       "<Client: 'tcp://127.0.0.1:58115' processes=4 threads=8, memory=17.18 GB>"
      ]
     },
     "execution_count": 17,
     "metadata": {},
     "output_type": "execute_result"
    }
   ],
   "source": [
    "client = Client(cluster)\n",
    "client"
   ]
  },
  {
   "cell_type": "code",
   "execution_count": 33,
   "metadata": {},
   "outputs": [
    {
     "name": "stdout",
     "output_type": "stream",
     "text": [
      "1979\n",
      "1980\n",
      "1981\n",
      "1982\n",
      "1983\n",
      "1984\n",
      "1985\n",
      "1986\n",
      "1987\n",
      "1988\n",
      "1989\n",
      "1990\n",
      "1991\n",
      "1992\n",
      "1993\n",
      "1994\n",
      "1995\n",
      "1996\n",
      "1997\n",
      "1998\n",
      "1999\n",
      "2000\n",
      "2001\n",
      "2002\n",
      "2003\n",
      "2004\n",
      "2005\n",
      "2006\n",
      "2007\n",
      "2008\n",
      "2009\n",
      "2010\n",
      "2011\n",
      "2012\n",
      "2013\n",
      "2014\n",
      "2015\n",
      "2016\n",
      "2017\n",
      "2018\n"
     ]
    }
   ],
   "source": [
    "outdir = '/Volumes/L4/ERAinterim/corrected_precips/'\n",
    "encoding = {'time': {'_FillValue': 0}, 'lon': {'_FillValue': 1e+36},\n",
    "            'lat': {'_FillValue': 1e+36}, 'precip': {'_FillValue': 1e+36}}\n",
    "\n",
    "for year in np.arange(1979,2018+1):\n",
    "    ds = xr.open_dataset(f'{erai_dir}/precip_ERAinterim_{year}_daily.nc')\n",
    "    ds_time = xr.open_dataset(f'{erai_dir}/precip_ERAinterim_{year}_daily.nc', decode_times=False)\n",
    "    ds_corrected = process_one_year(ds, gpcp_precip_interp)\n",
    "    ds_corrected['time'] = ds_time['time']\n",
    "    ds_corrected['precip'].attrs = {'valid_min': 0., 'valid_max': 1e-2}\n",
    "    ds_corrected.to_netcdf(f'{outdir}/precip_Dussin_corrected_{year}_daily.nc', encoding=encoding)"
   ]
  },
  {
   "cell_type": "code",
   "execution_count": null,
   "metadata": {},
   "outputs": [],
   "source": []
  }
 ],
 "metadata": {
  "kernelspec": {
   "display_name": "Analysis",
   "language": "python",
   "name": "analysis"
  },
  "language_info": {
   "codemirror_mode": {
    "name": "ipython",
    "version": 3
   },
   "file_extension": ".py",
   "mimetype": "text/x-python",
   "name": "python",
   "nbconvert_exporter": "python",
   "pygments_lexer": "ipython3",
   "version": "3.6.7"
  }
 },
 "nbformat": 4,
 "nbformat_minor": 4
}
