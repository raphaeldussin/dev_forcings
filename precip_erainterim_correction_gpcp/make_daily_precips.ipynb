{
 "cells": [
  {
   "cell_type": "code",
   "execution_count": 1,
   "metadata": {},
   "outputs": [],
   "source": [
    "import xarray as xr\n",
    "import numpy as np\n",
    "import pandas as pd\n",
    "from cftime import num2date\n",
    "import datetime as dt"
   ]
  },
  {
   "cell_type": "code",
   "execution_count": 2,
   "metadata": {},
   "outputs": [],
   "source": [
    "dirnc_3h = '/Volumes/L4/ERAinterim/nc/'\n",
    "dirnc_daily = '/Volumes/L4/ERAinterim/nc_daily/'"
   ]
  },
  {
   "cell_type": "code",
   "execution_count": 3,
   "metadata": {},
   "outputs": [],
   "source": [
    "def make_daily_average(ds):\n",
    "    \"\"\" compute daily average from 3 hours cumulative\"\"\"\n",
    "    grp = ds.groupby(ds.time.dt.hour)\n",
    "    midnight = grp.groups[0]\n",
    "    noon = grp.groups[12]\n",
    "    ds.load()\n",
    "    daily_avg = xr.Dataset()\n",
    "    # geo coordinates\n",
    "    daily_avg['lon'] = ds['lon']\n",
    "    daily_avg['lat'] = ds['lat']\n",
    "    # daily precip\n",
    "    rho_w = 1000  # kg.m-3\n",
    "    seconds_per_day = 86400 # s.day-1\n",
    "    # kg.m-2.s-1 = kg.m-3 * m.day-1 / s.day-1\n",
    "    precip = rho_w * (ds.TP.isel(time=midnight).values + ds.TP.isel(time=noon)).values / seconds_per_day\n",
    "    daily_avg['precip'] = xr.DataArray(data=precip, dims=['time', 'lat', 'lon'])\n",
    "    # new time axis\n",
    "    year = ds.time[0].dt.year.values\n",
    "    ndays = len(ds.time) / 8.\n",
    "    dateref = dt.datetime(1900,1,1,0,0,0)\n",
    "    datestart = dt.datetime(year,1,1,12,0,0)\n",
    "    time = (datestart - dateref).total_seconds() + seconds_per_day * np.arange(ndays)\n",
    "    daily_avg['time'] = time\n",
    "    daily_avg['time'].attrs['units'] = \"seconds since 1900-01-01 0:00:00\"\n",
    "    daily_avg['time'].attrs['calendar'] = \"gregorian\"\n",
    "    \n",
    "    return daily_avg"
   ]
  },
  {
   "cell_type": "code",
   "execution_count": 4,
   "metadata": {},
   "outputs": [
    {
     "name": "stdout",
     "output_type": "stream",
     "text": [
      "working on year 1979\n",
      "working on year 1980\n",
      "working on year 1981\n",
      "working on year 1982\n",
      "working on year 1983\n",
      "working on year 1984\n",
      "working on year 1985\n",
      "working on year 1986\n",
      "working on year 1987\n",
      "working on year 1988\n",
      "working on year 1989\n",
      "working on year 1990\n",
      "working on year 1991\n",
      "working on year 1992\n",
      "working on year 1993\n",
      "working on year 1994\n",
      "working on year 1995\n",
      "working on year 1996\n",
      "working on year 1997\n",
      "working on year 1998\n",
      "working on year 1999\n",
      "working on year 2000\n",
      "working on year 2001\n",
      "working on year 2002\n",
      "working on year 2003\n",
      "working on year 2004\n",
      "working on year 2005\n",
      "working on year 2006\n",
      "working on year 2007\n",
      "working on year 2008\n",
      "working on year 2009\n",
      "working on year 2010\n",
      "working on year 2011\n",
      "working on year 2012\n",
      "working on year 2013\n",
      "working on year 2014\n",
      "working on year 2015\n",
      "working on year 2016\n",
      "working on year 2017\n",
      "working on year 2018\n"
     ]
    }
   ],
   "source": [
    "for year in np.arange(1979,2018+1):\n",
    "    print(f'working on year {year}')\n",
    "    ds = xr.open_dataset(f'{dirnc_3h}/precip_ERAinterim_{year}.nc')\n",
    "    ds_daily = make_daily_average(ds)\n",
    "    ds_daily.to_netcdf(f'{dirnc_daily}/precip_ERAinterim_{year}_daily.nc')"
   ]
  },
  {
   "cell_type": "code",
   "execution_count": 5,
   "metadata": {},
   "outputs": [
    {
     "data": {
      "text/html": [
       "<pre>&lt;xarray.Dataset&gt;\n",
       "Dimensions:  (lat: 256, lon: 512, time: 365)\n",
       "Coordinates:\n",
       "  * lat      (lat) float64 89.46 88.77 88.07 87.37 ... -88.07 -88.77 -89.46\n",
       "  * lon      (lon) float64 0.0 0.7031 1.406 2.109 ... 357.2 357.9 358.6 359.3\n",
       "  * time     (time) float64 3.724e+09 3.724e+09 ... 3.755e+09 3.755e+09\n",
       "Data variables:\n",
       "    precip   (time, lat, lon) float64 5.298e-06 5.314e-06 ... 3.091e-07</pre>"
      ],
      "text/plain": [
       "<xarray.Dataset>\n",
       "Dimensions:  (lat: 256, lon: 512, time: 365)\n",
       "Coordinates:\n",
       "  * lat      (lat) float64 89.46 88.77 88.07 87.37 ... -88.07 -88.77 -89.46\n",
       "  * lon      (lon) float64 0.0 0.7031 1.406 2.109 ... 357.2 357.9 358.6 359.3\n",
       "  * time     (time) float64 3.724e+09 3.724e+09 ... 3.755e+09 3.755e+09\n",
       "Data variables:\n",
       "    precip   (time, lat, lon) float64 5.298e-06 5.314e-06 ... 3.091e-07"
      ]
     },
     "execution_count": 5,
     "metadata": {},
     "output_type": "execute_result"
    }
   ],
   "source": [
    "ds_daily"
   ]
  },
  {
   "cell_type": "code",
   "execution_count": null,
   "metadata": {},
   "outputs": [],
   "source": []
  }
 ],
 "metadata": {
  "kernelspec": {
   "display_name": "Analysis",
   "language": "python",
   "name": "analysis"
  },
  "language_info": {
   "codemirror_mode": {
    "name": "ipython",
    "version": 3
   },
   "file_extension": ".py",
   "mimetype": "text/x-python",
   "name": "python",
   "nbconvert_exporter": "python",
   "pygments_lexer": "ipython3",
   "version": "3.6.7"
  }
 },
 "nbformat": 4,
 "nbformat_minor": 4
}
