{
 "cells": [
  {
   "cell_type": "code",
   "execution_count": null,
   "metadata": {},
   "outputs": [],
   "source": [
    "import xarray as xr\n",
    "import numpy as np\n",
    "import pandas as pd\n",
    "from cftime import num2date\n",
    "import datetime as dt"
   ]
  },
  {
   "cell_type": "code",
   "execution_count": null,
   "metadata": {},
   "outputs": [],
   "source": [
    "dirnc_3h = '/archive/Raphael.Dussin/ERAinterim/originals/'\n",
    "dirnc_daily = '/archive/Raphael.Dussin/ERAinterim/nc_daily/'"
   ]
  },
  {
   "cell_type": "code",
   "execution_count": null,
   "metadata": {},
   "outputs": [],
   "source": [
    "def make_daily_average(ds, varout=\"precip\", varERA='TP'):\n",
    "    \"\"\" compute daily average from 3 hours cumulative\"\"\"\n",
    "    grp = ds.groupby(ds.time.dt.hour)\n",
    "    midnight = grp.groups[0]\n",
    "    noon = grp.groups[12]\n",
    "    ds.load()\n",
    "    daily_avg = xr.Dataset()\n",
    "    # geo coordinates/ flip north up\n",
    "    daily_avg['lon'] = ds['lon']\n",
    "    daily_avg['lat'] = ds['lat'][::-1]\n",
    "    # daily precip\n",
    "    rho_w = 1000  # kg.m-3\n",
    "    seconds_per_day = 86400 # s.day-1\n",
    "    # kg.m-2.s-1 = kg.m-3 * m.day-1 / s.day-1\n",
    "    precip = rho_w * (ds[varERA].isel(time=midnight).values + ds[varERA].isel(time=noon)).values / seconds_per_day\n",
    "    daily_avg[varout] = xr.DataArray(data=precip[:,::-1,:], dims=['time', 'lat', 'lon'])\n",
    "    # new time axis\n",
    "    year = ds.time[0].dt.year.values\n",
    "    ndays = len(ds.time) / 8.\n",
    "    dateref = dt.datetime(1900,1,1,0,0,0)\n",
    "    datestart = dt.datetime(year,1,1,12,0,0)\n",
    "    time = (datestart - dateref).total_seconds() + seconds_per_day * np.arange(ndays)\n",
    "    daily_avg['time'] = time\n",
    "    daily_avg['time'].attrs['units'] = \"seconds since 1900-01-01 0:00:00\"\n",
    "    daily_avg['time'].attrs['calendar'] = \"gregorian\"\n",
    "    \n",
    "    return daily_avg"
   ]
  },
  {
   "cell_type": "code",
   "execution_count": null,
   "metadata": {},
   "outputs": [],
   "source": [
    "for year in np.arange(1979,2018+1):\n",
    "    print(f'working on year {year}')\n",
    "    ds = xr.open_dataset(f'{dirnc_3h}/precip_ERAinterim_{year}.nc')\n",
    "    ds_daily = make_daily_average(ds)\n",
    "    ds_daily.to_netcdf(f'{dirnc_daily}/precip_ERAinterim_{year}_daily.nc')"
   ]
  },
  {
   "cell_type": "code",
   "execution_count": null,
   "metadata": {},
   "outputs": [],
   "source": [
    "for year in np.arange(1979,2018+1):\n",
    "    print(f'working on year {year}')\n",
    "    ds = xr.open_dataset(f'{dirnc_3h}/snow_ERAinterim_{year}.nc')\n",
    "    ds_daily = make_daily_average(ds, varout='snow', varERA='SF')\n",
    "    ds_daily.to_netcdf(f'{dirnc_daily}/snow_ERAinterim_{year}_daily.nc')"
   ]
  }
 ],
 "metadata": {
  "kernelspec": {
   "display_name": "Py3-repro4",
   "language": "python",
   "name": "repro"
  },
  "language_info": {
   "codemirror_mode": {
    "name": "ipython",
    "version": 3
   },
   "file_extension": ".py",
   "mimetype": "text/x-python",
   "name": "python",
   "nbconvert_exporter": "python",
   "pygments_lexer": "ipython3",
   "version": "3.8.5"
  }
 },
 "nbformat": 4,
 "nbformat_minor": 4
}
