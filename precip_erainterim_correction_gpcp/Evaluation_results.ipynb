{
 "cells": [
  {
   "cell_type": "markdown",
   "metadata": {},
   "source": [
    "# Evaluation of corrected precips"
   ]
  },
  {
   "cell_type": "code",
   "execution_count": null,
   "metadata": {},
   "outputs": [],
   "source": [
    "import xarray as xr\n",
    "import numpy as np\n",
    "import matplotlib\n",
    "import matplotlib.pylab as plt\n",
    "import seaborn as sns\n",
    "import cmocean\n",
    "import matplotlib.pyplot as plt\n",
    "import cartopy.crs as ccrs"
   ]
  },
  {
   "cell_type": "code",
   "execution_count": null,
   "metadata": {},
   "outputs": [],
   "source": [
    "# picking my color for plots"
   ]
  },
  {
   "cell_type": "code",
   "execution_count": null,
   "metadata": {},
   "outputs": [],
   "source": [
    "a = sns.color_palette(\"Dark2\")\n",
    "a"
   ]
  },
  {
   "cell_type": "code",
   "execution_count": null,
   "metadata": {},
   "outputs": [],
   "source": [
    "green, orange, purple, fushia, lightgreen, yellow, brown, gray = sns.color_palette(\"Dark2\")"
   ]
  },
  {
   "cell_type": "code",
   "execution_count": null,
   "metadata": {},
   "outputs": [],
   "source": [
    "# default for line plots\n",
    "sns.set_theme()\n",
    "sns.set_style('dark')\n",
    "sns.set_context(\"paper\", font_scale=2.7)"
   ]
  },
  {
   "cell_type": "markdown",
   "metadata": {},
   "source": [
    "## 1. Load datasets"
   ]
  },
  {
   "cell_type": "code",
   "execution_count": null,
   "metadata": {},
   "outputs": [],
   "source": [
    "erai_dir = '/archive/Raphael.Dussin/ERAinterim/nc_daily/'\n",
    "erai = xr.open_mfdataset(f'{erai_dir}/*_ERAinterim_*_daily.nc',\n",
    "                         combine='by_coords', chunks={'time': 24})\n",
    "erai[\"rain\"] = (erai[\"precip\"] - erai[\"snow\"]).clip(min=0.)"
   ]
  },
  {
   "cell_type": "code",
   "execution_count": null,
   "metadata": {},
   "outputs": [],
   "source": [
    "erai"
   ]
  },
  {
   "cell_type": "code",
   "execution_count": null,
   "metadata": {},
   "outputs": [],
   "source": [
    "blend_dir ='/archive/Raphael.Dussin/ERAinterim/blend_GPCP/'\n",
    "blend = xr.open_mfdataset(f'{blend_dir}/*.nc', combine='by_coords', chunks={'time': 24})"
   ]
  },
  {
   "cell_type": "code",
   "execution_count": null,
   "metadata": {},
   "outputs": [],
   "source": [
    "blend5x_dir ='/archive/Raphael.Dussin/ERAinterim/blend_GPCP_sens_5x/'\n",
    "blend5x = xr.open_mfdataset(f'{blend5x_dir}/*.nc', combine='by_coords', chunks={'time': 24})"
   ]
  },
  {
   "cell_type": "code",
   "execution_count": null,
   "metadata": {},
   "outputs": [],
   "source": [
    "blend1y_dir ='/archive/Raphael.Dussin/ERAinterim/blend_GPCP_sens_1y/'\n",
    "blend1y = xr.open_mfdataset(f'{blend1y_dir}/*.nc', combine='by_coords', chunks={'time': 24})"
   ]
  },
  {
   "cell_type": "code",
   "execution_count": null,
   "metadata": {},
   "outputs": [],
   "source": [
    "gpcpdir = '/archive/Raphael.Dussin/datasets/GPCPv2.3/'\n",
    "gpcp = xr.open_dataset(gpcpdir + 'precip.mon.mean.nc').sel(time=slice('1979', '2018'))"
   ]
  },
  {
   "cell_type": "code",
   "execution_count": null,
   "metadata": {},
   "outputs": [],
   "source": [
    "gpcpR = xr.open_dataset('/work/Raphael.Dussin/corrected_precips/dev_forcings/precip_erainterim_correction_gpcp/GPCP_v2.3_256x512.nc')"
   ]
  },
  {
   "cell_type": "markdown",
   "metadata": {},
   "source": [
    "## 2. Start cluster"
   ]
  },
  {
   "cell_type": "code",
   "execution_count": null,
   "metadata": {},
   "outputs": [],
   "source": [
    "# open labextension, scale and paste cell"
   ]
  },
  {
   "cell_type": "markdown",
   "metadata": {},
   "source": [
    "## 3.1 Zonal means"
   ]
  },
  {
   "cell_type": "code",
   "execution_count": null,
   "metadata": {},
   "outputs": [],
   "source": [
    "compute_zonal_means = False"
   ]
  },
  {
   "cell_type": "code",
   "execution_count": null,
   "metadata": {},
   "outputs": [],
   "source": [
    "if compute_zonal_means:\n",
    "    erai_zm = erai[\"rain\"].mean(dim=['time', 'lon'])\n",
    "    _ = erai_zm.load()\n",
    "    blend_zm = blend[\"rain\"].mean(dim=['time', 'lon'])\n",
    "    _ = blend_zm.load()\n",
    "    blend5x_zm = blend5x[\"rain\"].mean(dim=['time', 'lon'])\n",
    "    _ = blend5x_zm.load()\n",
    "    blend1y_zm = blend1y[\"rain\"].mean(dim=['time', 'lon'])\n",
    "    _ = blend1y_zm.load()\n",
    "    gpcp_zm = gpcp[\"precip\"].mean(dim=['time', 'lon'])\n",
    "    _ = gpcp_zm.load()\n",
    "    gpcpR_zm = gpcpR[\"precip\"].mean(dim=['time', 'lon'])\n",
    "    _ = gpcpR_zm.load()\n",
    "    \n",
    "    erai_zm.to_dataset(name='rain_zmean').to_netcdf('zonal_mean_ERAinterim.nc')\n",
    "    blend_zm.to_dataset(name='rain_zmean').to_netcdf('zonal_mean_BLEND.nc')\n",
    "    blend5x_zm.to_dataset(name='rain_zmean').to_netcdf('zonal_mean_BLEND5X.nc')\n",
    "    blend1y_zm.to_dataset(name='rain_zmean').to_netcdf('zonal_mean_BLEND1Y.nc')\n",
    "    gpcp_zm.to_dataset(name='rain_zmean').to_netcdf('zonal_mean_GPCP.nc')\n",
    "    gpcpR_zm.to_dataset(name='rain_zmean').to_netcdf('zonal_mean_GPCP_regridded.nc')"
   ]
  },
  {
   "cell_type": "code",
   "execution_count": null,
   "metadata": {},
   "outputs": [],
   "source": [
    "# force re-load from netcdf files\n",
    "erai_zm = xr.open_dataset(\"zonal_mean_ERAinterim.nc\")\n",
    "blend_zm = xr.open_dataset(\"zonal_mean_BLEND.nc\")\n",
    "blend5x_zm = xr.open_dataset(\"zonal_mean_BLEND5X.nc\")\n",
    "blend1y_zm = xr.open_dataset(\"zonal_mean_BLEND1Y.nc\")\n",
    "gpcp_zm = xr.open_dataset(\"zonal_mean_GPCP.nc\")\n",
    "gpcpR_zm = xr.open_dataset(\"zonal_mean_GPCP_regridded.nc\")"
   ]
  },
  {
   "cell_type": "code",
   "execution_count": null,
   "metadata": {},
   "outputs": [],
   "source": [
    "sns.set_theme()\n",
    "sns.set_style('dark')\n",
    "sns.set_context(\"paper\", font_scale=2.7)\n",
    "\n",
    "plt.figure(figsize=[10,10])\n",
    "plt.plot(86400 * erai_zm[\"rain_zmean\"], erai_zm['lat'], color=orange, linewidth=2, label='ERAi')\n",
    "plt.plot(86400 * blend_zm[\"rain_zmean\"], blend_zm['lat'], color=purple, linestyle='--', linewidth=2, label='CMT')\n",
    "plt.plot(86400 * blend5x_zm[\"rain_zmean\"], blend5x_zm['lat'], color=lightgreen, linestyle='--', linewidth=2, label='CMT CR')\n",
    "plt.plot(86400 * blend1y_zm[\"rain_zmean\"], blend1y_zm['lat'], color=fushia, linestyle='--', linewidth=2, label='CMT AN')\n",
    "plt.plot(gpcp_zm[\"rain_zmean\"], gpcp_zm['lat'], color=gray, linestyle='-', linewidth=2, label='GPCP')\n",
    "plt.legend(fontsize=22, shadow=True, facecolor='white')\n",
    "plt.xticks(fontsize=22)\n",
    "\n",
    "plt.yticks([-90,-60,-30,0,30,60,90],\n",
    "           ['$90^{\\circ}S$',\n",
    "            '$60^{\\circ}S$',\n",
    "            '$30^{\\circ}S$',\n",
    "            '$0^{\\circ}N$',\n",
    "            '$30^{\\circ}N$',\n",
    "            '$60^{\\circ}N$',\n",
    "            '$90^{\\circ}N$'],\n",
    "           fontsize=22)\n",
    "\n",
    "plt.grid()\n",
    "_ = plt.xlabel('Zonal mean precipitation (mm/day)', fontsize=22, weight='bold')\n",
    "_= plt.ylim([-90,90])\n",
    "_= plt.xlim([-0.1,8])\n",
    "\n",
    "plt.savefig('zonal_mean.png', bbox_inches='tight')"
   ]
  },
  {
   "cell_type": "markdown",
   "metadata": {},
   "source": [
    "## 3.2 Global timeseries"
   ]
  },
  {
   "cell_type": "code",
   "execution_count": null,
   "metadata": {},
   "outputs": [],
   "source": [
    "# ERA-interim\n",
    "\n",
    "lon = erai['lon'].values\n",
    "lon_bnds = np.concatenate((np.array([lon[0] -0.5 * 0.7031]), 0.5 * (lon[:-1] + lon[1:]), np.array([lon[-1] + 0.5 * 0.7031])), axis=0)\n",
    "\n",
    "lat = erai['lat'].values\n",
    "lat_bnds = np.concatenate((np.array([-90]), 0.5 * (lat[:-1] + lat[1:]), np.array([90])), axis=0)\n",
    "\n",
    "dx = lon_bnds[1:] - lon_bnds[:-1]\n",
    "dy = lat_bnds[1:] - lat_bnds[:-1]\n",
    "\n",
    "lon2, lat2 = np.meshgrid(lon, lat)\n",
    "dx2, dy2 = np.meshgrid(dx, dy)\n",
    "\n",
    "area_erai = 4 * np.pi * np.pi *6378000 * 6378000 * dx2 * dy2 * np.cos(2*np.pi*lat2/360)\n",
    "darea_erai = xr.DataArray(data=area_erai, dims=('lat', 'lon'))\n",
    "\n",
    "# GPCP\n",
    "\n",
    "lon = np.arange(1.25,360,2.5)\n",
    "lat = np.arange(-88.75,90,2.5)\n",
    "lon_b=np.arange(0,360+2.5,2.5)\n",
    "lat_b=np.arange(-90,90+2.5,2.5)\n",
    "\n",
    "dx = lon_b[1:] - lon_b[:-1]\n",
    "dy = lat_b[1:] - lat_b[:-1]\n",
    "\n",
    "lon2, lat2 = np.meshgrid(lon, lat)\n",
    "dx2, dy2 = np.meshgrid(dx, dy)\n",
    "\n",
    "area_gpcp = 4 * np.pi * np.pi *6378000 * 6378000 * dx2 * dy2 * np.cos(2*np.pi*lat2/360)\n",
    "darea_gpcp = xr.DataArray(data=area_gpcp, dims=('lat', 'lon'))"
   ]
  },
  {
   "cell_type": "code",
   "execution_count": null,
   "metadata": {},
   "outputs": [],
   "source": [
    "#plt.pcolormesh(area_gpcp) ; plt.colorbar()"
   ]
  },
  {
   "cell_type": "code",
   "execution_count": null,
   "metadata": {},
   "outputs": [],
   "source": [
    "#plt.pcolormesh(area_erai) ; plt.colorbar()"
   ]
  },
  {
   "cell_type": "code",
   "execution_count": null,
   "metadata": {},
   "outputs": [],
   "source": [
    "def global_mean(da, area):\n",
    "    out = (da * area).sum(dim=['lon', 'lat']) / area.sum(dim=['lon', 'lat'])\n",
    "    return out"
   ]
  },
  {
   "cell_type": "code",
   "execution_count": null,
   "metadata": {},
   "outputs": [],
   "source": [
    "compute_avg_precip = False"
   ]
  },
  {
   "cell_type": "code",
   "execution_count": null,
   "metadata": {},
   "outputs": [],
   "source": [
    "if compute_avg_precip:\n",
    "    # daily ERAinterim\n",
    "    glopre_daily_era = 86400 * global_mean(erai[\"rain\"], darea_erai)\n",
    "    _ = glopre_daily_era.load()\n",
    "    # monthly ERAinterim\n",
    "    glopre_monthly_era = glopre_daily_era.resample(time=\"1MS\").mean()\n",
    "    _ = glopre_monthly_era.load()\n",
    "    # monthly GPCP\n",
    "    glopre_monthly_gpcp = global_mean(gpcp[\"precip\"], darea_gpcp)\n",
    "    _ = glopre_monthly_gpcp.load()\n",
    "    # daily blend\n",
    "    glopre_daily_blend = 86400 * global_mean(blend[\"rain\"], darea_erai)\n",
    "    _ = glopre_daily_blend.load()\n",
    "    # daily blend from GPCP 5x5 degrees\n",
    "    glopre_daily_blend5x = 86400 * global_mean(blend5x[\"rain\"], darea_erai)\n",
    "    _ = glopre_daily_blend5x.load()\n",
    "    # daily blend from GPCP annual\n",
    "    glopre_daily_blend1y = 86400 * global_mean(blend1y[\"rain\"], darea_erai)\n",
    "    _ = glopre_daily_blend1y.load()"
   ]
  },
  {
   "cell_type": "code",
   "execution_count": null,
   "metadata": {},
   "outputs": [],
   "source": [
    "if compute_avg_precip:\n",
    "    glopre_daily_era.to_dataset(name='precip').to_netcdf('avg_daily_precip_erainterim.nc')\n",
    "    glopre_monthly_era.to_dataset(name='precip').to_netcdf('avg_monthly_precip_erainterim.nc')\n",
    "    glopre_monthly_gpcp.to_dataset(name='precip').to_netcdf('avg_monthly_precip_gpcp.nc')\n",
    "    glopre_daily_blend.to_dataset(name='precip').to_netcdf('avg_daily_precip_blend.nc')\n",
    "    glopre_daily_blend5x.to_dataset(name='precip').to_netcdf('avg_daily_precip_blend5x.nc')\n",
    "    glopre_daily_blend1y.to_dataset(name='precip').to_netcdf('avg_daily_precip_blend1y.nc')"
   ]
  },
  {
   "cell_type": "code",
   "execution_count": null,
   "metadata": {},
   "outputs": [],
   "source": [
    "glopre_daily_era = xr.open_dataset('avg_daily_precip_erainterim.nc')['precip']\n",
    "glopre_monthly_era = xr.open_dataset('avg_monthly_precip_erainterim.nc')['precip']\n",
    "glopre_monthly_gpcp = xr.open_dataset('avg_monthly_precip_gpcp.nc')['precip']\n",
    "glopre_daily_blend = xr.open_dataset('avg_daily_precip_blend.nc')['precip']\n",
    "glopre_daily_blend5x = xr.open_dataset('avg_daily_precip_blend5x.nc')['precip']\n",
    "glopre_daily_blend1y = xr.open_dataset('avg_daily_precip_blend1y.nc')['precip']"
   ]
  },
  {
   "cell_type": "code",
   "execution_count": null,
   "metadata": {},
   "outputs": [],
   "source": [
    "sns.set_theme()\n",
    "sns.set_style('dark')\n",
    "sns.set_context(\"paper\", font_scale=2.7)\n",
    "\n",
    "fig, axs = plt.subplots(2, figsize=[12,11])\n",
    "mean_era = glopre_daily_era.mean(dim='time')\n",
    "cmean_era = \"{:.2f}\".format(mean_era.values)\n",
    "(glopre_daily_era - mean_era).plot(ax=axs[0], color=green, label='ERAint daily')\n",
    "(glopre_monthly_era - mean_era).plot(ax=axs[0], color=orange, linewidth=2, label='ERAi monthly')\n",
    "axs[0].set_xlabel(\"\")\n",
    "axs[0].set_yticks([-0.6, -0.4, -0.2, 0., 0.2, 0.4])\n",
    "axs[0].set_ylim([-0.9,0.6])\n",
    "axs[0].legend(loc=4)\n",
    "axs[0].set_ylabel(f\"precip anomaly\\n(mm/day)\\naverage = {cmean_era}\")\n",
    "axs[0].grid()\n",
    "\n",
    "mean_gpcp = glopre_monthly_gpcp.mean(dim='time')\n",
    "cmean_gpcp = \"{:.2f}\".format(mean_gpcp.values)\n",
    "(glopre_daily_blend - mean_gpcp).plot(ax=axs[1], color=purple, label='CMT daily')\n",
    "(glopre_monthly_gpcp - mean_gpcp).plot(ax=axs[1], color=gray, linewidth=2, label='GPCP monthly')\n",
    "axs[1].set_xticklabels([])\n",
    "axs[1].set_yticks([-0.6, -0.4, -0.2, 0., 0.2, 0.4])\n",
    "axs[1].set_ylim([-0.9,0.6])\n",
    "axs[1].legend(loc=4)\n",
    "axs[1].set_xlabel(\"\")\n",
    "axs[1].set_ylabel(f\"precip anomaly\\n(mm/day)\\naverage = {cmean_gpcp}\")\n",
    "axs[1].grid()"
   ]
  },
  {
   "cell_type": "code",
   "execution_count": null,
   "metadata": {},
   "outputs": [],
   "source": [
    "sns.set_theme()\n",
    "sns.set_style('dark')\n",
    "sns.set_context(\"paper\", font_scale=2.7)\n",
    "\n",
    "fig, axs = plt.subplots(4, figsize=[12,16])\n",
    "mean_era = glopre_daily_era.mean(dim='time')\n",
    "cmean_era = \"{:.2f}\".format(mean_era.values)\n",
    "(glopre_daily_era - mean_era).plot(ax=axs[0], color=green, label='ERAi daily')\n",
    "(glopre_monthly_era - mean_era).plot(ax=axs[0], color=orange, linewidth=2, label='ERAi monthly')\n",
    "\n",
    "mean_gpcp = glopre_monthly_gpcp.mean(dim='time')\n",
    "cmean_gpcp = \"{:.2f}\".format(mean_gpcp.values)\n",
    "(glopre_daily_blend - mean_gpcp).plot(ax=axs[1], color=purple, label='CMT daily')\n",
    "(glopre_monthly_gpcp - mean_gpcp).plot(ax=axs[1], color=gray, linewidth=2, label='GPCP monthly')\n",
    "\n",
    "(glopre_daily_blend5x- mean_gpcp).plot(ax=axs[2], color=lightgreen, label='CMT CR daily')\n",
    "(glopre_monthly_gpcp - mean_gpcp).plot(ax=axs[2], color=gray, linewidth=2)\n",
    "\n",
    "(glopre_daily_blend1y - mean_gpcp).plot(ax=axs[3], color=fushia, label='CMT AN daily')\n",
    "(glopre_monthly_gpcp - mean_gpcp).plot(ax=axs[3], color=gray, linewidth=2)\n",
    "\n",
    "\n",
    "for k in range(3):\n",
    "    axs[k].set_xticklabels([])\n",
    "\n",
    "for k in range(4):\n",
    "    axs[k].set_xlabel(\"\")\n",
    "    axs[k].set_ylabel(\"\")\n",
    "    axs[k].set_yticks([-0.6, -0.4, -0.2, 0., 0.2, 0.4])\n",
    "    axs[k].set_yticklabels(['-0.6', '-0.4', '-0.2', '0.0', '+0.2', '+0.4'])\n",
    "    axs[k].set_ylim([-1.2,0.6])\n",
    "    axs[k].grid()\n",
    "    axs[k].legend(loc=3, facecolor='white')\n",
    "    \n",
    "axs[0].text(0.68, 0.05, '$<P> = 2.78~mm/day$',\n",
    "            verticalalignment='bottom',\n",
    "            horizontalalignment='left',\n",
    "            transform=axs[0].transAxes,\n",
    "            bbox={'facecolor': 'white'},\n",
    "            color='black', fontsize=18)\n",
    "\n",
    "for k in range(1,4):\n",
    "    axs[k].text(0.68, 0.05, '$<P> = 2.69~mm/day$',\n",
    "                verticalalignment='bottom',\n",
    "                horizontalalignment='left',\n",
    "                transform=axs[k].transAxes,\n",
    "                bbox={'facecolor': 'white'},\n",
    "                color='black', fontsize=18)\n",
    "\n",
    "    \n",
    "axs[0].text(0.01, 0.95, '(a)',\n",
    "                verticalalignment='top',\n",
    "                horizontalalignment='left',\n",
    "                transform=axs[0].transAxes,\n",
    "                bbox={'facecolor': 'black'},\n",
    "                color='white', fontsize=20)\n",
    "\n",
    "axs[1].text(0.01, 0.95, '(b)',\n",
    "                verticalalignment='top',\n",
    "                horizontalalignment='left',\n",
    "                transform=axs[1].transAxes,\n",
    "                bbox={'facecolor': 'black'},\n",
    "                color='white', fontsize=20)\n",
    "\n",
    "axs[2].text(0.01, 0.95, '(c)',\n",
    "                verticalalignment='top',\n",
    "                horizontalalignment='left',\n",
    "                transform=axs[2].transAxes,\n",
    "                bbox={'facecolor': 'black'},\n",
    "                color='white', fontsize=20)\n",
    "\n",
    "axs[3].text(0.01, 0.95, '(d)',\n",
    "                verticalalignment='top',\n",
    "                horizontalalignment='left',\n",
    "                transform=axs[3].transAxes,\n",
    "                bbox={'facecolor': 'black'},\n",
    "                color='white', fontsize=20)\n",
    "\n",
    "plt.xlabel('\\nPrecipitation anomaly (mm/day, global average)', fontsize=22, weight='bold')\n",
    "plt.savefig('global_timeseries.png', bbox_inches='tight')"
   ]
  },
  {
   "cell_type": "code",
   "execution_count": null,
   "metadata": {
    "jupyter": {
     "source_hidden": true
    }
   },
   "outputs": [],
   "source": [
    "fig, axs = plt.subplots(3, figsize=[12,14])\n",
    "mean_gpcp = glopre_monthly_gpcp.mean(dim='time')\n",
    "cmean_gpcp = \"{:.2f}\".format(mean_gpcp.values)\n",
    "(glopre_daily_blend - mean_gpcp).plot(ax=axs[0], color=purple, label='Blend 1d')\n",
    "(glopre_monthly_gpcp - mean_gpcp).plot(ax=axs[0], color=gray, linewidth=2, label='GPCP 1m')\n",
    "\n",
    "(glopre_daily_blend5x- mean_gpcp).plot(ax=axs[1], color=lightgreen, label='Blend CR 1d')\n",
    "(glopre_monthly_gpcp - mean_gpcp).plot(ax=axs[1], color=gray, linewidth=2, label='GPCP 1m')\n",
    "\n",
    "(glopre_daily_blend1y - mean_gpcp).plot(ax=axs[2], color=fushia, label='Blend AN 1d')\n",
    "(glopre_monthly_gpcp - mean_gpcp).plot(ax=axs[2], color=gray, linewidth=2, label='GPCP 1m')\n",
    "\n",
    "_ = axs[0].set_xticklabels([])\n",
    "_ = axs[1].set_xticklabels([])\n",
    "\n",
    "_ = axs[0].set_xticklabels([])\n",
    "_ = axs[1].set_xticklabels([])\n",
    "\n",
    "axs[0].set_yticks([-0.6, -0.4, -0.2, 0., 0.2, 0.4])\n",
    "axs[1].set_yticks([-0.6, -0.4, -0.2, 0., 0.2, 0.4])\n",
    "axs[2].set_yticks([-0.6, -0.4, -0.2, 0., 0.2, 0.4])\n",
    "\n",
    "axs[0].set_ylim([-0.9,0.6])\n",
    "axs[1].set_ylim([-0.9,0.6])\n",
    "axs[2].set_ylim([-0.9,0.6])\n",
    "\n",
    "_ = axs[0].legend(loc=4)\n",
    "_ = axs[1].legend(loc=4)\n",
    "_ = axs[2].legend(loc=4)\n",
    "\n",
    "_ = axs[0].set_xlabel(\"\")\n",
    "_ = axs[1].set_xlabel(\"\")\n",
    "\n",
    "_ = axs[1].set_ylabel(f\"precip anomaly\\n(mm/day)\\naverage = {cmean_gpcp}\")\n",
    "\n",
    "_ = axs[0].grid()\n",
    "_ = axs[1].grid()\n",
    "_ = axs[2].grid()"
   ]
  },
  {
   "cell_type": "markdown",
   "metadata": {},
   "source": [
    "## 3.3 Variances"
   ]
  },
  {
   "cell_type": "code",
   "execution_count": null,
   "metadata": {},
   "outputs": [],
   "source": [
    "compute_variance = False"
   ]
  },
  {
   "cell_type": "code",
   "execution_count": null,
   "metadata": {},
   "outputs": [],
   "source": [
    "if compute_variance:\n",
    "    variance_erai = erai[\"rain\"].var(dim='time')\n",
    "    _ = variance_erai.load()\n",
    "    variance_erai.to_dataset(name=\"var_pre\").to_netcdf(\"variance_precip_erai.nc\")\n",
    "\n",
    "if compute_variance:\n",
    "    variance_blend = blend[\"rain\"].var(dim='time')\n",
    "    _ = variance_blend.load()\n",
    "    variance_blend.to_dataset(name=\"var_pre\").to_netcdf(\"variance_precip_blend.nc\")\n",
    "\n",
    "if compute_variance:\n",
    "    variance_blend5x = blend5x[\"rain\"].var(dim='time')\n",
    "    _ = variance_blend5x.load()\n",
    "    variance_blend5x.to_dataset(name=\"var_pre\").to_netcdf(\"variance_precip_blend5x.nc\")\n",
    "\n",
    "if compute_variance:\n",
    "    variance_blend1y = blend1y[\"rain\"].var(dim='time')\n",
    "    _ = variance_blend1y.load()\n",
    "    variance_blend1y.to_dataset(name=\"var_pre\").to_netcdf(\"variance_precip_blend1y.nc\")\n",
    "\n",
    "if compute_variance:\n",
    "    variance_gpcp = gpcp[\"precip\"].var(dim='time')\n",
    "    _ = variance_gpcp.load()\n",
    "    variance_gpcp.to_dataset(name=\"var_pre\").to_netcdf(\"variance_precip_gpcp.nc\")"
   ]
  },
  {
   "cell_type": "code",
   "execution_count": null,
   "metadata": {},
   "outputs": [],
   "source": [
    "variance_erai = xr.open_dataset(\"variance_precip_erai.nc\")\n",
    "variance_blend = xr.open_dataset(\"variance_precip_blend.nc\")\n",
    "variance_blend5x = xr.open_dataset(\"variance_precip_blend5x.nc\")\n",
    "variance_blend1y = xr.open_dataset(\"variance_precip_blend1y.nc\")\n",
    "variance_gpcp = xr.open_dataset(\"variance_precip_gpcp.nc\")"
   ]
  },
  {
   "cell_type": "code",
   "execution_count": null,
   "metadata": {
    "jupyter": {
     "source_hidden": true
    }
   },
   "outputs": [],
   "source": [
    "plt.figure(figsize=[10,10])\n",
    "\n",
    "plt.plot(86400*86400*variance_erai[\"var_pre\"].mean(dim='lon'), variance_erai['lat'], 'r', linewidth=2, label='ERAinterim mean')\n",
    "plt.plot(86400*86400*variance_erai[\"var_pre\"].median(dim='lon'), variance_erai['lat'], 'r--', linewidth=2, label='ERAinterim median')\n",
    "plt.plot(86400*86400*variance_blend[\"var_pre\"].mean(dim='lon'), variance_blend['lat'], 'b', linewidth=2, label='Blend mean')\n",
    "plt.plot(86400*86400*variance_blend[\"var_pre\"].median(dim='lon'), variance_blend['lat'], 'b--', linewidth=2, label='Blend median')\n",
    "plt.plot(variance_gpcp[\"var_pre\"].mean(dim='lon'), variance_gpcp['lat'], 'k', linewidth=2, label='GPCP 2.3 mean')\n",
    "plt.plot(variance_gpcp[\"var_pre\"].median(dim='lon'), variance_gpcp['lat'], 'k--', linewidth=2, label='GPCP 2.3 median')\n",
    "\n",
    "plt.legend(fontsize=18)\n",
    "plt.xticks(fontsize=18)\n",
    "plt.yticks(fontsize=18)\n",
    "plt.grid(alpha=0.5)\n",
    "plt.xlabel('Zonal precipitation variance (mm2/day2)', fontsize=18)\n",
    "plt.ylabel('Latitude (deg)', fontsize=18)\n",
    "#plt.savefig('zonal_variance.png', bbox_inches='tight')"
   ]
  },
  {
   "cell_type": "code",
   "execution_count": null,
   "metadata": {
    "jupyter": {
     "source_hidden": true
    }
   },
   "outputs": [],
   "source": [
    "plt.figure(figsize=[10,10])\n",
    "\n",
    "plt.plot(86400*86400*variance_erai[\"var_pre\"].mean(dim='lon'), variance_erai['lat'], 'r', linewidth=2, label='ERAinterim')\n",
    "#plt.plot(86400*86400*variance_erai[\"var_pre\"].median(dim='lon'), variance_erai['lat'], 'r--', linewidth=2, label='ERAinterim median')\n",
    "plt.plot(86400*86400*variance_blend[\"var_pre\"].mean(dim='lon'), variance_blend['lat'], 'b', linewidth=2, label='Blend')\n",
    "plt.plot(86400*86400*variance_blend5x[\"var_pre\"].mean(dim='lon'), variance_blend5x['lat'], 'm', linewidth=2, label='Blend CR')\n",
    "plt.plot(86400*86400*variance_blend1y[\"var_pre\"].mean(dim='lon'), variance_blend1y['lat'], 'g', linewidth=2, label='Blend AN')\n",
    "\n",
    "#plt.plot(86400*86400*variance_blend[\"var_pre\"].median(dim='lon'), variance_blend['lat'], 'b--', linewidth=2, label='Blend median')\n",
    "plt.plot(variance_gpcp[\"var_pre\"].mean(dim='lon'), variance_gpcp['lat'], 'k', linewidth=2, label='GPCP 2.3 mean')\n",
    "#plt.plot(variance_gpcp[\"var_pre\"].median(dim='lon'), variance_gpcp['lat'], 'k--', linewidth=2, label='GPCP 2.3 median')\n",
    "\n",
    "plt.legend(fontsize=18)\n",
    "plt.xticks(fontsize=18)\n",
    "plt.yticks(fontsize=18)\n",
    "plt.grid(alpha=0.5)\n",
    "plt.xlabel('Zonal precipitation variance (mm2/day2)', fontsize=18)\n",
    "plt.ylabel('Latitude (deg)', fontsize=18)\n",
    "#plt.savefig('zonal_variance.png', bbox_inches='tight')"
   ]
  },
  {
   "cell_type": "code",
   "execution_count": null,
   "metadata": {},
   "outputs": [],
   "source": [
    "varplt_blend = 86400*86400*variance_blend[\"var_pre\"]"
   ]
  },
  {
   "cell_type": "code",
   "execution_count": null,
   "metadata": {},
   "outputs": [],
   "source": [
    "varplt_blend5x = 86400*86400*variance_blend5x[\"var_pre\"]"
   ]
  },
  {
   "cell_type": "code",
   "execution_count": null,
   "metadata": {},
   "outputs": [],
   "source": [
    "varplt_blend1y = 86400*86400*variance_blend1y[\"var_pre\"]"
   ]
  },
  {
   "cell_type": "code",
   "execution_count": null,
   "metadata": {},
   "outputs": [],
   "source": [
    "varplt_erai = 86400*86400*variance_erai[\"var_pre\"]"
   ]
  },
  {
   "cell_type": "code",
   "execution_count": null,
   "metadata": {},
   "outputs": [],
   "source": [
    "varplt_gpcp = variance_gpcp[\"var_pre\"]"
   ]
  },
  {
   "cell_type": "code",
   "execution_count": null,
   "metadata": {},
   "outputs": [],
   "source": [
    "sns.set_theme()\n",
    "sns.set_style('dark')\n",
    "sns.set_context(\"paper\", font_scale=2.7)\n",
    "\n",
    "fig, axs = plt.subplots(ncols=2, nrows=3, figsize=(12, 8),\n",
    "                        subplot_kw=dict(projection=ccrs.Robinson(central_longitude=205)))\n",
    "                        #subplot_kw=dict(projection=ccrs.PlateCarree(central_longitude=180)))\n",
    "gs = axs[1, 1].get_gridspec()\n",
    "\n",
    "# remove the underlying axes\n",
    "for ax in axs[0:, -1]:\n",
    "    ax.remove()\n",
    "axbig = fig.add_subplot(gs[0:, -1])\n",
    "\n",
    "cbar_kwargs={'ticks': [0,100,200,300]}\n",
    "\n",
    "ax0 = axs[0,0]\n",
    "ax0.coastlines()\n",
    "C0 = ax0.pcolormesh(varplt_gpcp.lon, varplt_gpcp.lat, varplt_gpcp, vmin=0, vmax=300, cmap='turbo',\n",
    "                    transform=ccrs.PlateCarree())\n",
    "    \n",
    "varplt_gpcp.plot(ax=ax0, vmin=0, vmax=300,\n",
    "                 add_labels=False, cbar_kwargs=cbar_kwargs,\n",
    "                 cmap='turbo', transform=ccrs.PlateCarree())\n",
    "\n",
    "#ax0.text(-330, -65, 'GPCP',\n",
    "#         verticalalignment='top',\n",
    "#         horizontalalignment='left',\n",
    "#         transform=ccrs.PlateCarree(),\n",
    "#         bbox={'facecolor': 'black'},\n",
    "#         color='white', fontsize=22)\n",
    "\n",
    "ax0.set_title('GPCP', fontsize=20, weight='bold')\n",
    "\n",
    "ax1 = axs[1,0]\n",
    "ax1.coastlines()\n",
    "varplt_blend.plot(ax=ax1, vmin=0, vmax=300,\n",
    "                 add_labels=False, cbar_kwargs=cbar_kwargs,\n",
    "                 cmap='turbo', transform=ccrs.PlateCarree())\n",
    "#ax1.text(-330, -65, 'CMT',\n",
    "#         verticalalignment='top',\n",
    "#         horizontalalignment='left',\n",
    "#         transform=ccrs.PlateCarree(),\n",
    "#         bbox={'facecolor': 'black'},\n",
    "#         color='white', fontsize=22)\n",
    "\n",
    "ax2 = axs[2,0]\n",
    "ax2.coastlines()\n",
    "varplt_erai.plot(ax=ax2, vmin=0, vmax=300,\n",
    "                 add_labels=False, cbar_kwargs=cbar_kwargs,\n",
    "                 cmap='turbo', transform=ccrs.PlateCarree())\n",
    "#ax2.text(-330, -65, 'ERAint',\n",
    "#         verticalalignment='top',\n",
    "#         horizontalalignment='left',\n",
    "#         transform=ccrs.PlateCarree(),\n",
    "#         bbox={'facecolor': 'black'},\n",
    "#         color='white', fontsize=22)\n",
    "\n",
    "axbig.plot(86400*86400*variance_erai[\"var_pre\"].mean(dim='lon'), variance_erai['lat'], color=orange, linestyle='-', linewidth=2, label='ERAi')\n",
    "axbig.plot(86400*86400*variance_blend[\"var_pre\"].mean(dim='lon'), variance_blend['lat'], color=purple, linestyle='--', linewidth=2, label='CMT')\n",
    "axbig.plot(86400*86400*variance_blend5x[\"var_pre\"].mean(dim='lon'), variance_blend5x['lat'], color=lightgreen, linestyle='--', linewidth=2, label='CMT CR')\n",
    "axbig.plot(86400*86400*variance_blend1y[\"var_pre\"].mean(dim='lon'), variance_blend1y['lat'], color=fushia, linestyle='--', linewidth=2, label='CMT AN')\n",
    "axbig.plot(variance_gpcp[\"var_pre\"].median(dim='lon'), variance_gpcp['lat'], color=gray, linestyle='-', linewidth=2, label='GPCP')\n",
    "\n",
    "axbig.legend(fontsize=18, loc=4,shadow=True, facecolor='white')\n",
    "axbig.grid(alpha=0.5)\n",
    "axbig.set_yticks([-90,-60,-30,0,30,60,90])\n",
    "axbig.set_yticklabels(['$90^{\\circ}S$',\n",
    "                       '$60^{\\circ}S$',\n",
    "                       '$30^{\\circ}S$',\n",
    "                        '$0^{\\circ}N$',\n",
    "                        '$30^{\\circ}N$',\n",
    "                        '$60^{\\circ}N$',\n",
    "                        '$90^{\\circ}N$'], fontsize=22)\n",
    "\n",
    "axbig.set_xlim([-5,100])\n",
    "axbig.yaxis.tick_right()\n",
    "axbig.yaxis.set_label_position(\"right\")\n",
    "\n",
    "ax0.set_title('GPCP', fontsize=20, weight='bold')\n",
    "ax1.set_title('CMT', fontsize=20, weight='bold')\n",
    "ax2.set_title('ERAi', fontsize=20, weight='bold')\n",
    "\n",
    "axbig.text(0.95, 0.97, '(d)',\n",
    "                verticalalignment='top',\n",
    "                horizontalalignment='right',\n",
    "                transform=axbig.transAxes,\n",
    "                bbox={'facecolor': 'black'},\n",
    "                color='white', fontsize=20)\n",
    "\n",
    "\n",
    "ax0.text(15, -65, '$(a)$',\n",
    "         verticalalignment='top',\n",
    "         horizontalalignment='left',\n",
    "         transform=ccrs.PlateCarree(),\n",
    "         bbox={'facecolor': 'black'},\n",
    "         color='white', fontsize=20)\n",
    "\n",
    "ax1.text(15, -65, '$(b)$',\n",
    "         verticalalignment='top',\n",
    "         horizontalalignment='left',\n",
    "         transform=ccrs.PlateCarree(),\n",
    "         bbox={'facecolor': 'black'},\n",
    "         color='white', fontsize=20)\n",
    "\n",
    "ax2.text(15, -65, '$(c)$',\n",
    "         verticalalignment='top',\n",
    "         horizontalalignment='left',\n",
    "         transform=ccrs.PlateCarree(),\n",
    "         bbox={'facecolor': 'black'},\n",
    "         color='white', fontsize=20)\n",
    "\n",
    "plt.savefig('variance.png', bbox_inches='tight')"
   ]
  },
  {
   "cell_type": "code",
   "execution_count": null,
   "metadata": {},
   "outputs": [],
   "source": [
    "cbar_kwargs={'ticks': [0,100,200,300]}\n",
    "\n",
    "fig, axs = plt.subplots(nrows=3, sharex=True, figsize=(12, 8), subplot_kw=dict(projection=ccrs.PlateCarree(central_longitude=180)))\n",
    "ax0 = axs[0]\n",
    "ax0.coastlines()\n",
    "varplt_blend5x.plot(ax=ax0, vmin=0, vmax=300,\n",
    "                    add_labels=False, cbar_kwargs=cbar_kwargs,\n",
    "                    cmap='turbo', transform=ccrs.PlateCarree())\n",
    "\n",
    "ax1 = axs[1]\n",
    "ax1.coastlines()\n",
    "varplt_blend.plot(ax=ax1, vmin=0, vmax=300,\n",
    "                 add_labels=False, cbar_kwargs=cbar_kwargs,\n",
    "                 cmap='turbo', transform=ccrs.PlateCarree())\n",
    "\n",
    "ax2 = axs[2]\n",
    "ax2.coastlines()\n",
    "varplt_blend1y.plot(ax=ax2, vmin=0, vmax=300,\n",
    "                    add_labels=False, cbar_kwargs=cbar_kwargs,\n",
    "                    cmap='turbo', transform=ccrs.PlateCarree())\n",
    "\n",
    "\n",
    "ax0.text(-160, -80, 'CMT CR',\n",
    "        verticalalignment='bottom', horizontalalignment='left',\n",
    "        color='white', fontsize=18)\n",
    "ax1.text(-160, -80, 'CMT',\n",
    "        verticalalignment='bottom', horizontalalignment='left',\n",
    "        color='white', fontsize=18)\n",
    "ax2.text(-160, -80, 'CMT AN',\n",
    "        verticalalignment='bottom', horizontalalignment='left',\n",
    "        color='white', fontsize=18)"
   ]
  },
  {
   "cell_type": "code",
   "execution_count": null,
   "metadata": {},
   "outputs": [],
   "source": [
    "#cluster.close()\n",
    "#client.close()"
   ]
  },
  {
   "cell_type": "markdown",
   "metadata": {},
   "source": [
    "## 3.4 Snapshot Atlantic storm"
   ]
  },
  {
   "cell_type": "code",
   "execution_count": null,
   "metadata": {},
   "outputs": [],
   "source": [
    "data_blend = (86400 * blend['rain']).isel(time=31).sel(lon=slice(280,320), lat=slice(20,50))"
   ]
  },
  {
   "cell_type": "code",
   "execution_count": null,
   "metadata": {},
   "outputs": [],
   "source": [
    "data_blend5x = (86400 * blend5x['rain']).isel(time=31).sel(lon=slice(280,320), lat=slice(20,50))"
   ]
  },
  {
   "cell_type": "code",
   "execution_count": null,
   "metadata": {},
   "outputs": [],
   "source": [
    "data_blend1y = (86400 * blend1y['rain']).isel(time=31).sel(lon=slice(280,320), lat=slice(20,50))"
   ]
  },
  {
   "cell_type": "code",
   "execution_count": null,
   "metadata": {},
   "outputs": [],
   "source": [
    "data_erai = (86400 * erai['rain']).isel(time=31).sel(lon=slice(280,320), lat=slice(20,50))"
   ]
  },
  {
   "cell_type": "code",
   "execution_count": null,
   "metadata": {},
   "outputs": [],
   "source": [
    "# create corners for pcolormesh\n",
    "lon = data_erai['lon'].values\n",
    "lon_bnds = np.concatenate((np.array([lon[0] -0.5 * 0.7031]), 0.5 * (lon[:-1] + lon[1:]), np.array([lon[-1] + 0.5 * 0.7031])), axis=0)\n",
    "\n",
    "lat = data_erai['lat'].values\n",
    "lat_bnds = np.concatenate((np.array([lat[0] -0.5 * 0.7031]), 0.5 * (lat[:-1] + lat[1:]), np.array([lat[-1] + 0.5 * 0.7031])), axis=0)\n"
   ]
  },
  {
   "cell_type": "code",
   "execution_count": null,
   "metadata": {},
   "outputs": [],
   "source": [
    "sns.set_theme()\n",
    "sns.set_style('whitegrid')\n",
    "sns.set_context(\"paper\", font_scale=2.7)\n",
    "\n",
    "latlabels = ['$25^{\\circ}N$', '$35^{\\circ}N$', '$45^{\\circ}N$']\n",
    "lonlabels = ['$80^{\\circ}W$', '$70^{\\circ}W$', '$60^{\\circ}W$', '$50^{\\circ}W$', '$40^{\\circ}W$']\n",
    "\n",
    "fig, axs = plt.subplots(ncols=2, nrows=2, figsize=[12,12])\n",
    "\n",
    "ax0 = axs[0,0]\n",
    "C0 = ax0.pcolormesh(lon_bnds, lat_bnds, data_erai.values.clip(min=0, max=60), vmin=0, vmax=60, cmap=cmocean.cm.rain)\n",
    "ax0.set_xticks([280, 290, 300, 310, 320])\n",
    "ax0.set_xticklabels(labels=lonlabels, fontsize=20)\n",
    "ax0.set_yticks([])\n",
    "\n",
    "ax1 = axs[0,1]\n",
    "C1 = ax1.pcolormesh(lon_bnds, lat_bnds, data_blend.values.clip(min=0, max=60), vmin=0, vmax=60, cmap=cmocean.cm.rain)\n",
    "ax1.set_xticks([280, 290, 300, 310, 320])\n",
    "ax1.set_xticklabels(labels=lonlabels, fontsize=20)\n",
    "ax1.set_yticks([25, 35, 45])\n",
    "ax1.set_yticklabels(labels=latlabels, fontsize=20)\n",
    "\n",
    "ax2 = axs[1,0]\n",
    "C2 = ax2.pcolormesh(lon_bnds, lat_bnds, data_blend5x.values.clip(min=0, max=60), vmin=0, vmax=60, cmap=cmocean.cm.rain)\n",
    "ax2.set_xticks([])\n",
    "ax2.set_yticks([])\n",
    "\n",
    "ax3 = axs[1,1]\n",
    "C3 = ax3.pcolormesh(lon_bnds, lat_bnds, data_blend1y.values.clip(min=0, max=60), vmin=0, vmax=60, cmap=cmocean.cm.rain)\n",
    "ax3.set_xticks([])\n",
    "ax3.set_yticks([25, 35, 45])\n",
    "ax3.set_yticklabels(labels=latlabels, fontsize=20)\n",
    "\n",
    "\n",
    "cbar = fig.colorbar(C0, ax=axs, orientation='horizontal', fraction=.1)\n",
    "cbar.ax.tick_params(labelsize=20)\n",
    "cbar.set_label(label='\\nprecipitation rate (mm/day) - Feb 01 1979', size=22, weight='bold')\n",
    "\n",
    "#ax0.set_title('ERAi', fontsize=20, weight='bold')\n",
    "#ax1.set_title('CMT', fontsize=20, weight='bold')\n",
    "#ax2.set_title('CMT CR', fontsize=20, weight='bold')\n",
    "#ax3.set_title('CMT AN', fontsize=20, weight='bold')\n",
    "\n",
    "ax0.text(282, 23, 'ERAi',\n",
    "        verticalalignment='bottom', horizontalalignment='left',\n",
    "        color='white', fontsize=20,\n",
    "        bbox={'facecolor': 'black', 'alpha': 0.9, 'pad': 10})\n",
    "ax1.text(282, 23, 'CMT',\n",
    "        verticalalignment='bottom', horizontalalignment='left',\n",
    "        color='white', fontsize=20,\n",
    "        bbox={'facecolor': 'black', 'alpha': 0.9, 'pad': 10})\n",
    "ax2.text(282, 23, 'CMT CR',\n",
    "        verticalalignment='bottom', horizontalalignment='left',\n",
    "        color='white', fontsize=20,\n",
    "        bbox={'facecolor': 'black', 'alpha': 0.9, 'pad': 10})\n",
    "ax3.text(282, 23, 'CMT AN',\n",
    "        verticalalignment='bottom', horizontalalignment='left',\n",
    "        color='white', fontsize=20,\n",
    "        bbox={'facecolor': 'black', 'alpha': 0.9, 'pad': 10})\n",
    "\n",
    "ax0.text(318, 23, '(a)',\n",
    "        verticalalignment='bottom', horizontalalignment='right',\n",
    "        color='white', fontsize=20,\n",
    "        bbox={'facecolor': 'black', 'alpha': 0.9, 'pad': 10})\n",
    "ax1.text(318, 23, '(b)',\n",
    "        verticalalignment='bottom', horizontalalignment='right',\n",
    "        color='white', fontsize=20,\n",
    "        bbox={'facecolor': 'black', 'alpha': 0.9, 'pad': 10})\n",
    "ax2.text(318, 23, '(c)',\n",
    "        verticalalignment='bottom', horizontalalignment='right',\n",
    "        color='white', fontsize=20,\n",
    "        bbox={'facecolor': 'black', 'alpha': 0.9, 'pad': 10})\n",
    "ax3.text(318, 23, '(d)',\n",
    "        verticalalignment='bottom', horizontalalignment='right',\n",
    "        color='white', fontsize=20,\n",
    "        bbox={'facecolor': 'black', 'alpha': 0.9, 'pad': 10})\n",
    "\n",
    "plt.savefig('snapshot.png', bbox_inches='tight')"
   ]
  },
  {
   "cell_type": "code",
   "execution_count": null,
   "metadata": {},
   "outputs": [],
   "source": []
  }
 ],
 "metadata": {
  "kernelspec": {
   "display_name": "Mackenzie",
   "language": "python",
   "name": "mackenzie"
  },
  "language_info": {
   "codemirror_mode": {
    "name": "ipython",
    "version": 3
   },
   "file_extension": ".py",
   "mimetype": "text/x-python",
   "name": "python",
   "nbconvert_exporter": "python",
   "pygments_lexer": "ipython3",
   "version": "3.8.6"
  }
 },
 "nbformat": 4,
 "nbformat_minor": 4
}
