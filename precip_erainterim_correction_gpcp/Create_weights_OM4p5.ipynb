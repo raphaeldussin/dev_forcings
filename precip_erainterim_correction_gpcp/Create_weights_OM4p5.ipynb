{
 "cells": [
  {
   "cell_type": "markdown",
   "metadata": {},
   "source": [
    "# Create weights for OM4p5"
   ]
  },
  {
   "cell_type": "code",
   "execution_count": 1,
   "metadata": {},
   "outputs": [],
   "source": [
    "import xarray as xr\n",
    "import xesmf\n",
    "import numpy as np"
   ]
  },
  {
   "cell_type": "code",
   "execution_count": 2,
   "metadata": {},
   "outputs": [],
   "source": [
    "eradir = '/local2/home/dev/dev_forcings/precip_erainterim_correction_gpcp/'"
   ]
  },
  {
   "cell_type": "markdown",
   "metadata": {},
   "source": [
    "## Building the grids"
   ]
  },
  {
   "cell_type": "code",
   "execution_count": 3,
   "metadata": {},
   "outputs": [],
   "source": [
    "# ERA-interim\n",
    "erai_grid = xr.open_dataset(f'{eradir}/erai_grid.nc')\n",
    "\n",
    "lon = erai_grid['lon'].values\n",
    "lon_bnds = np.concatenate((np.array([lon[0] -0.5 * 0.7031]), 0.5 * (lon[:-1] + lon[1:]), np.array([lon[-1] + 0.5 * 0.7031])), axis=0)\n",
    "\n",
    "lat = erai_grid['lat'].values\n",
    "lat_bnds = np.concatenate((np.array([-90]), 0.5 * (lat[:-1] + lat[1:]), np.array([90])), axis=0)\n",
    "\n",
    "erai_grid['lon_b'] = xr.DataArray(data=lon_bnds, dims=('lonp1'))\n",
    "erai_grid['lat_b'] = xr.DataArray(data=lat_bnds, dims=('latp1'))"
   ]
  },
  {
   "cell_type": "code",
   "execution_count": 4,
   "metadata": {},
   "outputs": [],
   "source": [
    "# OM4p5\n",
    "om4dir='/archive/gold/datasets/OM4_05/mosaic_ocean.v20180227.unpacked'\n",
    "om4_supergrid = xr.open_dataset(f'{om4dir}/ocean_hgrid.nc')"
   ]
  },
  {
   "cell_type": "code",
   "execution_count": 5,
   "metadata": {},
   "outputs": [
    {
     "data": {
      "text/html": [
       "<pre>&lt;xarray.Dataset&gt;\n",
       "Dimensions:   (nx: 1440, nxp: 1441, ny: 1152, nyp: 1153)\n",
       "Dimensions without coordinates: nx, nxp, ny, nyp\n",
       "Data variables:\n",
       "    tile      |S255 ...\n",
       "    y         (nyp, nxp) float64 ...\n",
       "    x         (nyp, nxp) float64 ...\n",
       "    dy        (ny, nxp) float64 ...\n",
       "    dx        (nyp, nx) float64 ...\n",
       "    area      (ny, nx) float64 ...\n",
       "    angle_dx  (nyp, nxp) float64 ...</pre>"
      ],
      "text/plain": [
       "<xarray.Dataset>\n",
       "Dimensions:   (nx: 1440, nxp: 1441, ny: 1152, nyp: 1153)\n",
       "Dimensions without coordinates: nx, nxp, ny, nyp\n",
       "Data variables:\n",
       "    tile      |S255 ...\n",
       "    y         (nyp, nxp) float64 ...\n",
       "    x         (nyp, nxp) float64 ...\n",
       "    dy        (ny, nxp) float64 ...\n",
       "    dx        (nyp, nx) float64 ...\n",
       "    area      (ny, nx) float64 ...\n",
       "    angle_dx  (nyp, nxp) float64 ..."
      ]
     },
     "execution_count": 5,
     "metadata": {},
     "output_type": "execute_result"
    }
   ],
   "source": [
    "om4_supergrid"
   ]
  },
  {
   "cell_type": "code",
   "execution_count": 6,
   "metadata": {},
   "outputs": [],
   "source": [
    "om4_grid = xr.Dataset()\n",
    "lon = om4_supergrid['x'].values[1::2,1::2].copy()\n",
    "lat = om4_supergrid['y'].values[1::2,1::2].copy()\n",
    "lon_b = om4_supergrid['x'].values[0::2,0::2].copy()\n",
    "lat_b = om4_supergrid['y'].values[0::2,0::2].copy()\n",
    "\n",
    "om4_grid['lon'] = xr.DataArray(data=lon, dims=('y', 'x'))\n",
    "om4_grid['lat'] = xr.DataArray(data=lat, dims=('y', 'x'))\n",
    "om4_grid['lon_b'] = xr.DataArray(data=lon_b, dims=('yp1', 'xp1'))\n",
    "om4_grid['lat_b'] = xr.DataArray(data=lat_b, dims=('yp1', 'xp1'))"
   ]
  },
  {
   "cell_type": "code",
   "execution_count": 7,
   "metadata": {},
   "outputs": [
    {
     "data": {
      "text/html": [
       "<pre>&lt;xarray.Dataset&gt;\n",
       "Dimensions:  (x: 720, xp1: 721, y: 576, yp1: 577)\n",
       "Dimensions without coordinates: x, xp1, y, yp1\n",
       "Data variables:\n",
       "    lon      (y, x) float64 -299.8 -299.2 -298.8 -298.2 ... 59.99 59.99 60.0\n",
       "    lat      (y, x) float64 -77.91 -77.91 -77.91 -77.91 ... 65.39 65.18 64.97\n",
       "    lon_b    (yp1, xp1) float64 -300.0 -299.5 -299.0 -298.5 ... 60.0 60.0 60.0\n",
       "    lat_b    (yp1, xp1) float64 -78.0 -78.0 -78.0 -78.0 ... 65.29 65.08 64.87</pre>"
      ],
      "text/plain": [
       "<xarray.Dataset>\n",
       "Dimensions:  (x: 720, xp1: 721, y: 576, yp1: 577)\n",
       "Dimensions without coordinates: x, xp1, y, yp1\n",
       "Data variables:\n",
       "    lon      (y, x) float64 -299.8 -299.2 -298.8 -298.2 ... 59.99 59.99 60.0\n",
       "    lat      (y, x) float64 -77.91 -77.91 -77.91 -77.91 ... 65.39 65.18 64.97\n",
       "    lon_b    (yp1, xp1) float64 -300.0 -299.5 -299.0 -298.5 ... 60.0 60.0 60.0\n",
       "    lat_b    (yp1, xp1) float64 -78.0 -78.0 -78.0 -78.0 ... 65.29 65.08 64.87"
      ]
     },
     "execution_count": 7,
     "metadata": {},
     "output_type": "execute_result"
    }
   ],
   "source": [
    "om4_grid"
   ]
  },
  {
   "cell_type": "code",
   "execution_count": 8,
   "metadata": {},
   "outputs": [
    {
     "name": "stdout",
     "output_type": "stream",
     "text": [
      "Create weight file: conservative_256x512_576x720.nc\n",
      "CPU times: user 16.8 s, sys: 650 ms, total: 17.4 s\n",
      "Wall time: 17.6 s\n"
     ]
    }
   ],
   "source": [
    "%time regrid_conserve = xesmf.Regridder(erai_grid, om4_grid, method='conservative', periodic=True)"
   ]
  },
  {
   "cell_type": "code",
   "execution_count": 9,
   "metadata": {},
   "outputs": [
    {
     "name": "stdout",
     "output_type": "stream",
     "text": [
      "Create weight file: patch_256x512_576x720_peri.nc\n",
      "CPU times: user 1min 12s, sys: 2.48 s, total: 1min 14s\n",
      "Wall time: 1min 14s\n"
     ]
    }
   ],
   "source": [
    "%time regrid_patch = xesmf.Regridder(erai_grid, om4_grid, method='patch', periodic=True)"
   ]
  },
  {
   "cell_type": "code",
   "execution_count": 10,
   "metadata": {},
   "outputs": [
    {
     "name": "stdout",
     "output_type": "stream",
     "text": [
      "Create weight file: bilinear_256x512_576x720_peri.nc\n",
      "CPU times: user 8.95 s, sys: 609 ms, total: 9.56 s\n",
      "Wall time: 9.55 s\n"
     ]
    }
   ],
   "source": [
    "%time regrid_bilin = xesmf.Regridder(erai_grid, om4_grid, method='bilinear', periodic=True)"
   ]
  },
  {
   "cell_type": "code",
   "execution_count": null,
   "metadata": {},
   "outputs": [],
   "source": []
  }
 ],
 "metadata": {
  "kernelspec": {
   "display_name": "analysis",
   "language": "python",
   "name": "analysis"
  },
  "language_info": {
   "codemirror_mode": {
    "name": "ipython",
    "version": 3
   },
   "file_extension": ".py",
   "mimetype": "text/x-python",
   "name": "python",
   "nbconvert_exporter": "python",
   "pygments_lexer": "ipython3",
   "version": "3.6.10"
  }
 },
 "nbformat": 4,
 "nbformat_minor": 4
}
