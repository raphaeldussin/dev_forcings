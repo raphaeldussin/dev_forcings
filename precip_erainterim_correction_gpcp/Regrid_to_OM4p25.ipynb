{
 "cells": [
  {
   "cell_type": "markdown",
   "metadata": {},
   "source": [
    "# Making forcing for OM4p25"
   ]
  },
  {
   "cell_type": "code",
   "execution_count": 1,
   "metadata": {},
   "outputs": [],
   "source": [
    "import xarray as xr\n",
    "import xesmf\n",
    "import numpy as np"
   ]
  },
  {
   "cell_type": "code",
   "execution_count": 2,
   "metadata": {},
   "outputs": [],
   "source": [
    "erainterim_indir = '/Volumes/P4/workdir/raphael/ERAinterim/nc_processed/'"
   ]
  },
  {
   "cell_type": "code",
   "execution_count": 3,
   "metadata": {},
   "outputs": [],
   "source": [
    "erainterim_outdir = '/Volumes/P4/workdir/raphael/ERAinterim/nc_processed_OM4p25/'"
   ]
  },
  {
   "cell_type": "markdown",
   "metadata": {},
   "source": [
    "## Building the grids"
   ]
  },
  {
   "cell_type": "code",
   "execution_count": 4,
   "metadata": {},
   "outputs": [],
   "source": [
    "# ERA-interim\n",
    "erai_grid = xr.open_dataset(f'{erainterim_indir}/precip_ERAinterim_1979_daily_ROMS.nc', decode_times=False, drop_variables=['rain', 'rain_time'])\n",
    "\n",
    "lon = erai_grid['lon'].values\n",
    "lon_bnds = np.concatenate((np.array([lon[0] -0.5 * 0.7031]), 0.5 * (lon[:-1] + lon[1:]), np.array([lon[-1] + 0.5 * 0.7031])), axis=0)\n",
    "\n",
    "lat = erai_grid['lat'].values\n",
    "lat_bnds = np.concatenate((np.array([-90]), 0.5 * (lat[:-1] + lat[1:]), np.array([90])), axis=0)\n",
    "\n",
    "erai_grid['lon_b'] = xr.DataArray(data=lon_bnds, dims=('lonp1'))\n",
    "erai_grid['lat_b'] = xr.DataArray(data=lat_bnds, dims=('latp1'))"
   ]
  },
  {
   "cell_type": "code",
   "execution_count": 5,
   "metadata": {},
   "outputs": [
    {
     "data": {
      "text/html": [
       "<pre>&lt;xarray.Dataset&gt;\n",
       "Dimensions:  (lat: 256, latp1: 257, lon: 512, lonp1: 513)\n",
       "Coordinates:\n",
       "  * lat      (lat) float64 -89.46 -88.77 -88.07 -87.37 ... 88.07 88.77 89.46\n",
       "  * lon      (lon) float64 0.0 0.7031 1.406 2.109 ... 357.2 357.9 358.6 359.3\n",
       "Dimensions without coordinates: latp1, lonp1\n",
       "Data variables:\n",
       "    lon_b    (lonp1) float64 -0.3515 0.3516 1.055 1.758 ... 358.2 358.9 359.6\n",
       "    lat_b    (latp1) float64 -90.0 -89.11 -88.42 -87.72 ... 88.42 89.11 90.0\n",
       "Attributes:\n",
       "    description:  ERAinterim post-processing (raphael.dussin@gmail.com)</pre>"
      ],
      "text/plain": [
       "<xarray.Dataset>\n",
       "Dimensions:  (lat: 256, latp1: 257, lon: 512, lonp1: 513)\n",
       "Coordinates:\n",
       "  * lat      (lat) float64 -89.46 -88.77 -88.07 -87.37 ... 88.07 88.77 89.46\n",
       "  * lon      (lon) float64 0.0 0.7031 1.406 2.109 ... 357.2 357.9 358.6 359.3\n",
       "Dimensions without coordinates: latp1, lonp1\n",
       "Data variables:\n",
       "    lon_b    (lonp1) float64 -0.3515 0.3516 1.055 1.758 ... 358.2 358.9 359.6\n",
       "    lat_b    (latp1) float64 -90.0 -89.11 -88.42 -87.72 ... 88.42 89.11 90.0\n",
       "Attributes:\n",
       "    description:  ERAinterim post-processing (raphael.dussin@gmail.com)"
      ]
     },
     "execution_count": 5,
     "metadata": {},
     "output_type": "execute_result"
    }
   ],
   "source": [
    "erai_grid"
   ]
  },
  {
   "cell_type": "code",
   "execution_count": 6,
   "metadata": {},
   "outputs": [],
   "source": [
    "# OM4p25\n",
    "om4_supergrid = xr.open_dataset('/Volumes/P4/workdir/raphael/OM4/OM4_025/mosaic.v20170622.unpacked/ocean_hgrid.nc')"
   ]
  },
  {
   "cell_type": "code",
   "execution_count": 7,
   "metadata": {},
   "outputs": [
    {
     "data": {
      "text/html": [
       "<pre>&lt;xarray.Dataset&gt;\n",
       "Dimensions:   (nx: 2880, nxp: 2881, ny: 2160, nyp: 2161)\n",
       "Dimensions without coordinates: nx, nxp, ny, nyp\n",
       "Data variables:\n",
       "    angle_dx  (nyp, nxp) float64 ...\n",
       "    area      (ny, nx) float64 ...\n",
       "    dx        (nyp, nx) float64 ...\n",
       "    dy        (ny, nxp) float64 ...\n",
       "    tile      |S255 ...\n",
       "    x         (nyp, nxp) float64 ...\n",
       "    y         (nyp, nxp) float64 ...</pre>"
      ],
      "text/plain": [
       "<xarray.Dataset>\n",
       "Dimensions:   (nx: 2880, nxp: 2881, ny: 2160, nyp: 2161)\n",
       "Dimensions without coordinates: nx, nxp, ny, nyp\n",
       "Data variables:\n",
       "    angle_dx  (nyp, nxp) float64 ...\n",
       "    area      (ny, nx) float64 ...\n",
       "    dx        (nyp, nx) float64 ...\n",
       "    dy        (ny, nxp) float64 ...\n",
       "    tile      |S255 ...\n",
       "    x         (nyp, nxp) float64 ...\n",
       "    y         (nyp, nxp) float64 ..."
      ]
     },
     "execution_count": 7,
     "metadata": {},
     "output_type": "execute_result"
    }
   ],
   "source": [
    "om4_supergrid"
   ]
  },
  {
   "cell_type": "code",
   "execution_count": 8,
   "metadata": {},
   "outputs": [],
   "source": [
    "om4_grid = xr.Dataset()\n",
    "lon = om4_supergrid['x'].values[1::2,1::2].copy()\n",
    "lat = om4_supergrid['y'].values[1::2,1::2].copy()\n",
    "lon_b = om4_supergrid['x'].values[0::2,0::2].copy()\n",
    "lat_b = om4_supergrid['y'].values[0::2,0::2].copy()\n",
    "\n",
    "om4_grid['lon'] = xr.DataArray(data=lon, dims=('y', 'x'))\n",
    "om4_grid['lat'] = xr.DataArray(data=lat, dims=('y', 'x'))\n",
    "om4_grid['lon_b'] = xr.DataArray(data=lon_b, dims=('yp1', 'xp1'))\n",
    "om4_grid['lat_b'] = xr.DataArray(data=lat_b, dims=('yp1', 'xp1'))"
   ]
  },
  {
   "cell_type": "code",
   "execution_count": 9,
   "metadata": {},
   "outputs": [
    {
     "data": {
      "text/html": [
       "<pre>&lt;xarray.Dataset&gt;\n",
       "Dimensions:  (x: 1440, xp1: 1441, y: 1080, yp1: 1081)\n",
       "Dimensions without coordinates: x, xp1, y, yp1\n",
       "Data variables:\n",
       "    lon      (y, x) float64 -299.7 -299.5 -299.2 -299.0 ... 60.0 60.0 60.0 60.0\n",
       "    lat      (y, x) float64 -79.81 -79.81 -79.8 -79.8 ... 64.33 64.22 64.11\n",
       "    lon_b    (yp1, xp1) float64 -299.8 -299.6 -299.3 -299.1 ... 60.0 60.0 60.0\n",
       "    lat_b    (yp1, xp1) float64 -79.84 -79.84 -79.84 ... 64.28 64.17 64.06</pre>"
      ],
      "text/plain": [
       "<xarray.Dataset>\n",
       "Dimensions:  (x: 1440, xp1: 1441, y: 1080, yp1: 1081)\n",
       "Dimensions without coordinates: x, xp1, y, yp1\n",
       "Data variables:\n",
       "    lon      (y, x) float64 -299.7 -299.5 -299.2 -299.0 ... 60.0 60.0 60.0 60.0\n",
       "    lat      (y, x) float64 -79.81 -79.81 -79.8 -79.8 ... 64.33 64.22 64.11\n",
       "    lon_b    (yp1, xp1) float64 -299.8 -299.6 -299.3 -299.1 ... 60.0 60.0 60.0\n",
       "    lat_b    (yp1, xp1) float64 -79.84 -79.84 -79.84 ... 64.28 64.17 64.06"
      ]
     },
     "execution_count": 9,
     "metadata": {},
     "output_type": "execute_result"
    }
   ],
   "source": [
    "om4_grid"
   ]
  },
  {
   "cell_type": "code",
   "execution_count": null,
   "metadata": {},
   "outputs": [
    {
     "name": "stdout",
     "output_type": "stream",
     "text": [
      "Create weight file: conservative_256x512_1080x1440.nc\n"
     ]
    }
   ],
   "source": [
    "%time regrid_conserve = xesmf.Regridder(erai_grid, om4_grid, method='conservative', periodic=True)"
   ]
  },
  {
   "cell_type": "code",
   "execution_count": null,
   "metadata": {},
   "outputs": [],
   "source": [
    "%time regrid_patch = xesmf.Regridder(erai_grid, om4_grid, method='patch', periodic=True)"
   ]
  },
  {
   "cell_type": "code",
   "execution_count": null,
   "metadata": {},
   "outputs": [],
   "source": [
    "%time regrid_bilin = xesmf.Regridder(erai_grid, om4_grid, method='bilinear', periodic=True)"
   ]
  },
  {
   "cell_type": "code",
   "execution_count": null,
   "metadata": {},
   "outputs": [],
   "source": []
  }
 ],
 "metadata": {
  "kernelspec": {
   "display_name": "Py3Ana",
   "language": "python",
   "name": "analysis"
  },
  "language_info": {
   "codemirror_mode": {
    "name": "ipython",
    "version": 3
   },
   "file_extension": ".py",
   "mimetype": "text/x-python",
   "name": "python",
   "nbconvert_exporter": "python",
   "pygments_lexer": "ipython3",
   "version": "3.6.7"
  }
 },
 "nbformat": 4,
 "nbformat_minor": 2
}
