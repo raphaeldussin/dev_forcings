{
 "cells": [
  {
   "cell_type": "markdown",
   "metadata": {},
   "source": [
    "# Making forcing for OM4p25"
   ]
  },
  {
   "cell_type": "code",
   "execution_count": 52,
   "metadata": {},
   "outputs": [],
   "source": [
    "import xarray as xr\n",
    "import xesmf\n",
    "import numpy as np\n",
    "import warnings\n",
    "import cftime"
   ]
  },
  {
   "cell_type": "code",
   "execution_count": 27,
   "metadata": {},
   "outputs": [],
   "source": [
    "%matplotlib inline\n",
    "warnings.filterwarnings(\"ignore\")"
   ]
  },
  {
   "cell_type": "code",
   "execution_count": 2,
   "metadata": {},
   "outputs": [],
   "source": [
    "erainterim_indir = '/Volumes/P4/workdir/raphael/ERAinterim/nc_processed/'"
   ]
  },
  {
   "cell_type": "code",
   "execution_count": 3,
   "metadata": {},
   "outputs": [],
   "source": [
    "erainterim_outdir = '/Volumes/P4/workdir/raphael/ERAinterim/nc_processed_OM4p25/'"
   ]
  },
  {
   "cell_type": "markdown",
   "metadata": {},
   "source": [
    "## Building the grids"
   ]
  },
  {
   "cell_type": "code",
   "execution_count": 4,
   "metadata": {},
   "outputs": [],
   "source": [
    "# ERA-interim\n",
    "erai_grid = xr.open_dataset(f'{erainterim_indir}/precip_ERAinterim_1979_daily_ROMS.nc', decode_times=False, drop_variables=['rain', 'rain_time'])\n",
    "\n",
    "lon = erai_grid['lon'].values\n",
    "lon_bnds = np.concatenate((np.array([lon[0] -0.5 * 0.7031]), 0.5 * (lon[:-1] + lon[1:]), np.array([lon[-1] + 0.5 * 0.7031])), axis=0)\n",
    "\n",
    "lat = erai_grid['lat'].values\n",
    "lat_bnds = np.concatenate((np.array([-90]), 0.5 * (lat[:-1] + lat[1:]), np.array([90])), axis=0)\n",
    "\n",
    "erai_grid['lon_b'] = xr.DataArray(data=lon_bnds, dims=('lonp1'))\n",
    "erai_grid['lat_b'] = xr.DataArray(data=lat_bnds, dims=('latp1'))"
   ]
  },
  {
   "cell_type": "code",
   "execution_count": 5,
   "metadata": {},
   "outputs": [
    {
     "data": {
      "text/html": [
       "<pre>&lt;xarray.Dataset&gt;\n",
       "Dimensions:  (lat: 256, latp1: 257, lon: 512, lonp1: 513)\n",
       "Coordinates:\n",
       "  * lat      (lat) float64 -89.46 -88.77 -88.07 -87.37 ... 88.07 88.77 89.46\n",
       "  * lon      (lon) float64 0.0 0.7031 1.406 2.109 ... 357.2 357.9 358.6 359.3\n",
       "Dimensions without coordinates: latp1, lonp1\n",
       "Data variables:\n",
       "    lon_b    (lonp1) float64 -0.3515 0.3516 1.055 1.758 ... 358.2 358.9 359.6\n",
       "    lat_b    (latp1) float64 -90.0 -89.11 -88.42 -87.72 ... 88.42 89.11 90.0\n",
       "Attributes:\n",
       "    description:  ERAinterim post-processing (raphael.dussin@gmail.com)</pre>"
      ],
      "text/plain": [
       "<xarray.Dataset>\n",
       "Dimensions:  (lat: 256, latp1: 257, lon: 512, lonp1: 513)\n",
       "Coordinates:\n",
       "  * lat      (lat) float64 -89.46 -88.77 -88.07 -87.37 ... 88.07 88.77 89.46\n",
       "  * lon      (lon) float64 0.0 0.7031 1.406 2.109 ... 357.2 357.9 358.6 359.3\n",
       "Dimensions without coordinates: latp1, lonp1\n",
       "Data variables:\n",
       "    lon_b    (lonp1) float64 -0.3515 0.3516 1.055 1.758 ... 358.2 358.9 359.6\n",
       "    lat_b    (latp1) float64 -90.0 -89.11 -88.42 -87.72 ... 88.42 89.11 90.0\n",
       "Attributes:\n",
       "    description:  ERAinterim post-processing (raphael.dussin@gmail.com)"
      ]
     },
     "execution_count": 5,
     "metadata": {},
     "output_type": "execute_result"
    }
   ],
   "source": [
    "erai_grid"
   ]
  },
  {
   "cell_type": "code",
   "execution_count": 6,
   "metadata": {},
   "outputs": [],
   "source": [
    "# OM4p25\n",
    "om4_supergrid = xr.open_dataset('/Volumes/P4/workdir/raphael/OM4/OM4_025/mosaic.v20170622.unpacked/ocean_hgrid.nc')"
   ]
  },
  {
   "cell_type": "code",
   "execution_count": 7,
   "metadata": {},
   "outputs": [
    {
     "data": {
      "text/html": [
       "<pre>&lt;xarray.Dataset&gt;\n",
       "Dimensions:   (nx: 2880, nxp: 2881, ny: 2160, nyp: 2161)\n",
       "Dimensions without coordinates: nx, nxp, ny, nyp\n",
       "Data variables:\n",
       "    angle_dx  (nyp, nxp) float64 ...\n",
       "    area      (ny, nx) float64 ...\n",
       "    dx        (nyp, nx) float64 ...\n",
       "    dy        (ny, nxp) float64 ...\n",
       "    tile      |S255 ...\n",
       "    x         (nyp, nxp) float64 ...\n",
       "    y         (nyp, nxp) float64 ...</pre>"
      ],
      "text/plain": [
       "<xarray.Dataset>\n",
       "Dimensions:   (nx: 2880, nxp: 2881, ny: 2160, nyp: 2161)\n",
       "Dimensions without coordinates: nx, nxp, ny, nyp\n",
       "Data variables:\n",
       "    angle_dx  (nyp, nxp) float64 ...\n",
       "    area      (ny, nx) float64 ...\n",
       "    dx        (nyp, nx) float64 ...\n",
       "    dy        (ny, nxp) float64 ...\n",
       "    tile      |S255 ...\n",
       "    x         (nyp, nxp) float64 ...\n",
       "    y         (nyp, nxp) float64 ..."
      ]
     },
     "execution_count": 7,
     "metadata": {},
     "output_type": "execute_result"
    }
   ],
   "source": [
    "om4_supergrid"
   ]
  },
  {
   "cell_type": "code",
   "execution_count": 8,
   "metadata": {},
   "outputs": [],
   "source": [
    "om4_grid = xr.Dataset()\n",
    "lon = om4_supergrid['x'].values[1::2,1::2].copy()\n",
    "lat = om4_supergrid['y'].values[1::2,1::2].copy()\n",
    "lon_b = om4_supergrid['x'].values[0::2,0::2].copy()\n",
    "lat_b = om4_supergrid['y'].values[0::2,0::2].copy()\n",
    "\n",
    "om4_grid['lon'] = xr.DataArray(data=lon, dims=('y', 'x'))\n",
    "om4_grid['lat'] = xr.DataArray(data=lat, dims=('y', 'x'))\n",
    "om4_grid['lon_b'] = xr.DataArray(data=lon_b, dims=('yp1', 'xp1'))\n",
    "om4_grid['lat_b'] = xr.DataArray(data=lat_b, dims=('yp1', 'xp1'))"
   ]
  },
  {
   "cell_type": "code",
   "execution_count": 9,
   "metadata": {},
   "outputs": [
    {
     "data": {
      "text/html": [
       "<pre>&lt;xarray.Dataset&gt;\n",
       "Dimensions:  (x: 1440, xp1: 1441, y: 1080, yp1: 1081)\n",
       "Dimensions without coordinates: x, xp1, y, yp1\n",
       "Data variables:\n",
       "    lon      (y, x) float64 -299.7 -299.5 -299.2 -299.0 ... 60.0 60.0 60.0 60.0\n",
       "    lat      (y, x) float64 -79.81 -79.81 -79.8 -79.8 ... 64.33 64.22 64.11\n",
       "    lon_b    (yp1, xp1) float64 -299.8 -299.6 -299.3 -299.1 ... 60.0 60.0 60.0\n",
       "    lat_b    (yp1, xp1) float64 -79.84 -79.84 -79.84 ... 64.28 64.17 64.06</pre>"
      ],
      "text/plain": [
       "<xarray.Dataset>\n",
       "Dimensions:  (x: 1440, xp1: 1441, y: 1080, yp1: 1081)\n",
       "Dimensions without coordinates: x, xp1, y, yp1\n",
       "Data variables:\n",
       "    lon      (y, x) float64 -299.7 -299.5 -299.2 -299.0 ... 60.0 60.0 60.0 60.0\n",
       "    lat      (y, x) float64 -79.81 -79.81 -79.8 -79.8 ... 64.33 64.22 64.11\n",
       "    lon_b    (yp1, xp1) float64 -299.8 -299.6 -299.3 -299.1 ... 60.0 60.0 60.0\n",
       "    lat_b    (yp1, xp1) float64 -79.84 -79.84 -79.84 ... 64.28 64.17 64.06"
      ]
     },
     "execution_count": 9,
     "metadata": {},
     "output_type": "execute_result"
    }
   ],
   "source": [
    "om4_grid"
   ]
  },
  {
   "cell_type": "code",
   "execution_count": 10,
   "metadata": {},
   "outputs": [
    {
     "name": "stdout",
     "output_type": "stream",
     "text": [
      "Reuse existing file: conservative_256x512_1080x1440.nc\n",
      "CPU times: user 75.6 ms, sys: 89 ms, total: 165 ms\n",
      "Wall time: 213 ms\n"
     ]
    }
   ],
   "source": [
    "%time regrid_conserve = xesmf.Regridder(erai_grid, om4_grid, method='conservative', periodic=True, reuse_weights=True)"
   ]
  },
  {
   "cell_type": "code",
   "execution_count": 11,
   "metadata": {},
   "outputs": [
    {
     "name": "stdout",
     "output_type": "stream",
     "text": [
      "Reuse existing file: patch_256x512_1080x1440_peri.nc\n",
      "CPU times: user 344 ms, sys: 571 ms, total: 915 ms\n",
      "Wall time: 1.13 s\n"
     ]
    }
   ],
   "source": [
    "%time regrid_patch = xesmf.Regridder(erai_grid, om4_grid, method='patch', periodic=True, reuse_weights=True)"
   ]
  },
  {
   "cell_type": "code",
   "execution_count": 12,
   "metadata": {},
   "outputs": [
    {
     "name": "stdout",
     "output_type": "stream",
     "text": [
      "Reuse existing file: bilinear_256x512_1080x1440_peri.nc\n",
      "CPU times: user 122 ms, sys: 145 ms, total: 267 ms\n",
      "Wall time: 280 ms\n"
     ]
    }
   ],
   "source": [
    "%time regrid_bilin = xesmf.Regridder(erai_grid, om4_grid, method='bilinear', periodic=True, reuse_weights=True)"
   ]
  },
  {
   "cell_type": "markdown",
   "metadata": {},
   "source": [
    "## Functions"
   ]
  },
  {
   "cell_type": "code",
   "execution_count": 80,
   "metadata": {},
   "outputs": [],
   "source": [
    "def expand_time_serie(ds, timevar):\n",
    "    \"\"\" add first and last bogus time slices \"\"\"\n",
    "    first_slice = ds.isel({timevar:0})\n",
    "    second_slice = ds.isel({timevar:1})\n",
    "    last_slice = ds.isel({timevar:-1})\n",
    "    dt = second_slice[timevar] - first_slice[timevar]\n",
    "    prologue = first_slice.copy(deep=True)\n",
    "    prologue[timevar] = first_slice[timevar] - dt\n",
    "    epilogue = last_slice.copy(deep=True)\n",
    "    epilogue[timevar] = last_slice[timevar] + dt\n",
    "    ds_expanded = xr.concat([prologue, ds, epilogue], dim=timevar)\n",
    "    return ds_expanded"
   ]
  },
  {
   "cell_type": "code",
   "execution_count": 102,
   "metadata": {},
   "outputs": [],
   "source": [
    "def interp_and_save_year(ds, var, time, year, outputdir, method='conservative'):\n",
    "    \"\"\" slice year with one day before and after, regrid and save to netcdf \"\"\"\n",
    "    start = f'{year-1}-12-31'\n",
    "    end = f'{year+1}-01-01'\n",
    "    data = ds.rename({time: 'time'}).sel(time=slice(start,end))\n",
    "    data = data.chunk({'time': -1}).transpose(*('time', 'lat', 'lon'))\n",
    "    if method == 'conservative':\n",
    "        regridded = regrid_conserve(data)\n",
    "    elif method == 'patch':\n",
    "        regridded = regrid_patch(data)\n",
    "    encoding = {'time':{'units': 'days since 1900-01-01T0:00:00',\n",
    "                        'calendar': 'gregorian', '_FillValue': 1e+20},\n",
    "                'lon': {'_FillValue': 1e+20},\n",
    "                'lat': {'_FillValue': 1e+20},\n",
    "                var: {'_FillValue': 1e+20},\n",
    "               }\n",
    "    regridded['lon'].attrs = {'axis': 'X', 'units': 'degrees_east', 'long_name': 'Longitude', 'standard_name': 'longitude'}\n",
    "    regridded['lat'].attrs = {'axis': 'Y', 'units': 'degrees_north', 'long_name': 'Latitude', 'standard_name': 'latitude'}\n",
    "    regridded['time'].attrs = {'axis': 'T'}\n",
    "    regridded.to_netcdf(f'{outputdir}/{var}_ERAinterim_{year}_OM4p25_{method}.nc', encoding=encoding, unlimited_dims=['time'])\n",
    "    return None\n",
    "    "
   ]
  },
  {
   "cell_type": "markdown",
   "metadata": {},
   "source": [
    "## Regrid precips and radiative fluxes"
   ]
  },
  {
   "cell_type": "code",
   "execution_count": 103,
   "metadata": {},
   "outputs": [],
   "source": [
    "firstyear=1979\n",
    "lastyear=1979"
   ]
  },
  {
   "cell_type": "code",
   "execution_count": 104,
   "metadata": {},
   "outputs": [
    {
     "name": "stdout",
     "output_type": "stream",
     "text": [
      "using dimensions ('lat', 'lon') from data variable rain as the horizontal dimensions for this dataset.\n"
     ]
    }
   ],
   "source": [
    "precip = xr.open_mfdataset(f'{erainterim_indir}/precip_ERAinterim_*_daily_ROMS.nc', combine='by_coords')\n",
    "precip_expanded = expand_time_serie(precip, 'rain_time')\n",
    "for year in range(firstyear,lastyear+1):\n",
    "    interp_and_save_year(precip_expanded,'rain','rain_time', year, erainterim_outdir)"
   ]
  },
  {
   "cell_type": "code",
   "execution_count": 105,
   "metadata": {},
   "outputs": [
    {
     "name": "stdout",
     "output_type": "stream",
     "text": [
      "using dimensions ('lat', 'lon') from data variable snow as the horizontal dimensions for this dataset.\n"
     ]
    }
   ],
   "source": [
    "snow = xr.open_mfdataset(f'{erainterim_indir}/snow_ERAinterim_*_daily_ROMS.nc', combine='by_coords')\n",
    "snow = snow.rename({'rain': 'snow'})\n",
    "snow_expanded = expand_time_serie(snow, 'rain_time')\n",
    "for year in range(firstyear,lastyear+1):\n",
    "    interp_and_save_year(snow_expanded,'snow','rain_time', year, erainterim_outdir)"
   ]
  },
  {
   "cell_type": "code",
   "execution_count": 106,
   "metadata": {},
   "outputs": [
    {
     "name": "stdout",
     "output_type": "stream",
     "text": [
      "using dimensions ('lat', 'lon') from data variable lwrad_down as the horizontal dimensions for this dataset.\n"
     ]
    }
   ],
   "source": [
    "radlw = xr.open_mfdataset(f'{erainterim_indir}/radlw_ERAinterim_*_daily_ROMS.nc', combine='by_coords')\n",
    "radlw_expanded = expand_time_serie(radlw, 'lrf_time')\n",
    "for year in range(firstyear,lastyear+1):\n",
    "    interp_and_save_year(radlw_expanded,'lwrad_down','lrf_time', year, erainterim_outdir)"
   ]
  },
  {
   "cell_type": "code",
   "execution_count": 107,
   "metadata": {},
   "outputs": [
    {
     "name": "stdout",
     "output_type": "stream",
     "text": [
      "using dimensions ('lat', 'lon') from data variable swrad as the horizontal dimensions for this dataset.\n"
     ]
    }
   ],
   "source": [
    "radsw = xr.open_mfdataset(f'{erainterim_indir}/radsw_ERAinterim_*_daily_ROMS.nc', combine='by_coords')\n",
    "radsw_expanded = expand_time_serie(radsw, 'srf_time')\n",
    "for year in range(firstyear,lastyear+1):\n",
    "    interp_and_save_year(radsw_expanded,'swrad','srf_time', year, erainterim_outdir)"
   ]
  },
  {
   "cell_type": "markdown",
   "metadata": {},
   "source": [
    "## Regrid turb variables"
   ]
  },
  {
   "cell_type": "code",
   "execution_count": 119,
   "metadata": {},
   "outputs": [
    {
     "name": "stdout",
     "output_type": "stream",
     "text": [
      "using dimensions ('lat', 'lon') from data variable Tair as the horizontal dimensions for this dataset.\n"
     ]
    }
   ],
   "source": [
    "tair = xr.open_mfdataset(f'{erainterim_indir}/t2_ERAinterim_*_ROMS.nc', combine='by_coords')\n",
    "tair_expanded = expand_time_serie(tair, 'tair_time')\n",
    "tair_expanded['Tair'] = tair_expanded['Tair'] + 273.15\n",
    "for year in range(firstyear,lastyear+1):\n",
    "    interp_and_save_year(tair_expanded,'Tair','tair_time', year, erainterim_outdir, method='patch')"
   ]
  },
  {
   "cell_type": "code",
   "execution_count": 109,
   "metadata": {},
   "outputs": [
    {
     "name": "stdout",
     "output_type": "stream",
     "text": [
      "using dimensions ('lat', 'lon') from data variable Qair as the horizontal dimensions for this dataset.\n"
     ]
    }
   ],
   "source": [
    "qair = xr.open_mfdataset(f'{erainterim_indir}/q2_ERAinterim_*_ROMS.nc', combine='by_coords')\n",
    "qair_expanded = expand_time_serie(qair, 'qair_time')\n",
    "for year in range(firstyear,lastyear+1):\n",
    "    interp_and_save_year(q\n",
    "                         air_expanded,'Qair','qair_time', year, erainterim_outdir, method='patch')"
   ]
  },
  {
   "cell_type": "code",
   "execution_count": 110,
   "metadata": {},
   "outputs": [
    {
     "name": "stdout",
     "output_type": "stream",
     "text": [
      "using dimensions ('lat', 'lon') from data variable Pair as the horizontal dimensions for this dataset.\n"
     ]
    }
   ],
   "source": [
    "pair = xr.open_mfdataset(f'{erainterim_indir}/msl_ERAinterim_*_ROMS.nc', combine='by_coords')\n",
    "pair_expanded = expand_time_serie(pair, 'pair_time')\n",
    "for year in range(firstyear,lastyear+1):\n",
    "    interp_and_save_year(pair_expanded,'Pair','pair_time', year, erainterim_outdir, method='patch')"
   ]
  },
  {
   "cell_type": "code",
   "execution_count": 111,
   "metadata": {},
   "outputs": [
    {
     "name": "stdout",
     "output_type": "stream",
     "text": [
      "using dimensions ('lat', 'lon') from data variable Uwind as the horizontal dimensions for this dataset.\n"
     ]
    }
   ],
   "source": [
    "uwind = xr.open_mfdataset(f'{erainterim_indir}/u10_ERAinterim_*_ROMS.nc', combine='by_coords')\n",
    "uwind_expanded = expand_time_serie(uwind, 'wind_time')\n",
    "for year in range(firstyear,lastyear+1):\n",
    "    interp_and_save_year(uwind_expanded,'Uwind','wind_time', year, erainterim_outdir, method='patch')"
   ]
  },
  {
   "cell_type": "code",
   "execution_count": 112,
   "metadata": {},
   "outputs": [
    {
     "name": "stdout",
     "output_type": "stream",
     "text": [
      "using dimensions ('lat', 'lon') from data variable Vwind as the horizontal dimensions for this dataset.\n"
     ]
    }
   ],
   "source": [
    "vwind = xr.open_mfdataset(f'{erainterim_indir}/v10_ERAinterim_*_ROMS.nc', combine='by_coords')\n",
    "vwind_expanded = expand_time_serie(vwind, 'wind_time')\n",
    "for year in range(firstyear,lastyear+1):\n",
    "    interp_and_save_year(vwind_expanded,'Vwind','wind_time', year, erainterim_outdir, method='patch')"
   ]
  },
  {
   "cell_type": "code",
   "execution_count": 118,
   "metadata": {},
   "outputs": [
    {
     "data": {
      "text/plain": [
       "<matplotlib.collections.QuadMesh at 0x146eee748>"
      ]
     },
     "execution_count": 118,
     "metadata": {},
     "output_type": "execute_result"
    },
    {
     "data": {
      "image/png": "[encoded data removed]",
      "text/plain": [
       "<Figure size 432x288 with 2 Axes>"
      ]
     },
     "metadata": {
      "needs_background": "light"
     },
     "output_type": "display_data"
    }
   ],
   "source": [
    "tair['Tair'].isel(tair_time=0).plot()\n"
   ]
  },
  {
   "cell_type": "code",
   "execution_count": null,
   "metadata": {},
   "outputs": [],
   "source": []
  }
 ],
 "metadata": {
  "kernelspec": {
   "display_name": "Py3Ana",
   "language": "python",
   "name": "analysis"
  },
  "language_info": {
   "codemirror_mode": {
    "name": "ipython",
    "version": 3
   },
   "file_extension": ".py",
   "mimetype": "text/x-python",
   "name": "python",
   "nbconvert_exporter": "python",
   "pygments_lexer": "ipython3",
   "version": "3.6.7"
  }
 },
 "nbformat": 4,
 "nbformat_minor": 2
}
