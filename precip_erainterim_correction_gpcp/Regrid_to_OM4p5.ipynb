{
 "cells": [
  {
   "cell_type": "markdown",
   "metadata": {},
   "source": [
    "# Making forcing for OM4p5"
   ]
  },
  {
   "cell_type": "code",
   "execution_count": null,
   "metadata": {},
   "outputs": [],
   "source": [
    "import xarray as xr\n",
    "import xesmf\n",
    "import numpy as np\n",
    "import warnings\n",
    "import cftime"
   ]
  },
  {
   "cell_type": "code",
   "execution_count": null,
   "metadata": {},
   "outputs": [],
   "source": [
    "%matplotlib inline\n",
    "warnings.filterwarnings(\"ignore\")"
   ]
  },
  {
   "cell_type": "code",
   "execution_count": null,
   "metadata": {},
   "outputs": [],
   "source": [
    "erainterim_indir = '/Volumes/P4/workdir/raphael/ERAinterim/nc_processed/'"
   ]
  },
  {
   "cell_type": "code",
   "execution_count": null,
   "metadata": {},
   "outputs": [],
   "source": [
    "erainterim_outdir = '/Volumes/P5/ERAinterim/nc_processed_OM4p5/'"
   ]
  },
  {
   "cell_type": "markdown",
   "metadata": {},
   "source": [
    "## Building the grids"
   ]
  },
  {
   "cell_type": "code",
   "execution_count": null,
   "metadata": {},
   "outputs": [],
   "source": [
    "# ERA-interim\n",
    "erai_grid = xr.open_dataset(f'{erainterim_indir}/precip_ERAinterim_1979_daily_ROMS.nc', \n",
    "                            decode_times=False, \n",
    "                            drop_variables=['rain', 'rain_time'])\n",
    "\n",
    "lon = erai_grid['lon'].values\n",
    "lon_bnds = np.concatenate((np.array([lon[0] -0.5 * 0.7031]), 0.5 * (lon[:-1] + lon[1:]), np.array([lon[-1] + 0.5 * 0.7031])), axis=0)\n",
    "\n",
    "lat = erai_grid['lat'].values\n",
    "lat_bnds = np.concatenate((np.array([-90]), 0.5 * (lat[:-1] + lat[1:]), np.array([90])), axis=0)\n",
    "\n",
    "erai_grid['lon_b'] = xr.DataArray(data=lon_bnds, dims=('lonp1'))\n",
    "erai_grid['lat_b'] = xr.DataArray(data=lat_bnds, dims=('latp1'))"
   ]
  },
  {
   "cell_type": "code",
   "execution_count": null,
   "metadata": {},
   "outputs": [],
   "source": [
    "erai_grid"
   ]
  },
  {
   "cell_type": "code",
   "execution_count": null,
   "metadata": {},
   "outputs": [],
   "source": [
    "# OM4p5\n",
    "om4_supergrid = xr.open_dataset('/Volumes/P4/workdir/raphael/OM4/OM4_05/mosaic_ocean.v20180227.unpacked/ocean_hgrid.nc')"
   ]
  },
  {
   "cell_type": "code",
   "execution_count": null,
   "metadata": {},
   "outputs": [],
   "source": [
    "om4_supergrid"
   ]
  },
  {
   "cell_type": "code",
   "execution_count": null,
   "metadata": {},
   "outputs": [],
   "source": [
    "om4_grid = xr.Dataset()\n",
    "lon = om4_supergrid['x'].values[1::2,1::2].copy()\n",
    "lat = om4_supergrid['y'].values[1::2,1::2].copy()\n",
    "lon_b = om4_supergrid['x'].values[0::2,0::2].copy()\n",
    "lat_b = om4_supergrid['y'].values[0::2,0::2].copy()\n",
    "\n",
    "om4_grid['lon'] = xr.DataArray(data=lon, dims=('y', 'x'))\n",
    "om4_grid['lat'] = xr.DataArray(data=lat, dims=('y', 'x'))\n",
    "om4_grid['lon_b'] = xr.DataArray(data=lon_b, dims=('yp1', 'xp1'))\n",
    "om4_grid['lat_b'] = xr.DataArray(data=lat_b, dims=('yp1', 'xp1'))"
   ]
  },
  {
   "cell_type": "code",
   "execution_count": null,
   "metadata": {},
   "outputs": [],
   "source": [
    "om4_grid"
   ]
  },
  {
   "cell_type": "code",
   "execution_count": null,
   "metadata": {},
   "outputs": [],
   "source": [
    "%%time\n",
    "regrid_conserve = xesmf.Regridder(erai_grid, om4_grid, \n",
    "                                  method='conservative', \n",
    "                                  periodic=True, \n",
    "                                  reuse_weights=True)"
   ]
  },
  {
   "cell_type": "code",
   "execution_count": null,
   "metadata": {},
   "outputs": [],
   "source": [
    "%%time\n",
    "regrid_patch = xesmf.Regridder(erai_grid, om4_grid, \n",
    "                               method='patch', \n",
    "                               periodic=True, \n",
    "                               reuse_weights=True)"
   ]
  },
  {
   "cell_type": "code",
   "execution_count": null,
   "metadata": {},
   "outputs": [],
   "source": [
    "%%time \n",
    "regrid_bilin = xesmf.Regridder(erai_grid, om4_grid, \n",
    "                               method='bilinear', \n",
    "                               periodic=True, \n",
    "                               reuse_weights=True)"
   ]
  },
  {
   "cell_type": "markdown",
   "metadata": {},
   "source": [
    "## Functions"
   ]
  },
  {
   "cell_type": "code",
   "execution_count": null,
   "metadata": {},
   "outputs": [],
   "source": [
    "def expand_time_serie(ds, timevar):\n",
    "    \"\"\" add first and last bogus time slices \"\"\"\n",
    "    first_slice = ds.isel({timevar:0})\n",
    "    second_slice = ds.isel({timevar:1})\n",
    "    last_slice = ds.isel({timevar:-1})\n",
    "    dt = second_slice[timevar] - first_slice[timevar]\n",
    "    prologue = first_slice.copy(deep=True)\n",
    "    prologue[timevar] = first_slice[timevar] - dt\n",
    "    epilogue = last_slice.copy(deep=True)\n",
    "    epilogue[timevar] = last_slice[timevar] + dt\n",
    "    ds_expanded = xr.concat([prologue, ds, epilogue], dim=timevar)\n",
    "    return ds_expanded"
   ]
  },
  {
   "cell_type": "code",
   "execution_count": null,
   "metadata": {},
   "outputs": [],
   "source": [
    "def interp_and_save_year(ds, var, time, year, outputdir, method='conservative'):\n",
    "    \"\"\" slice year with one day before and after, regrid and save to netcdf \"\"\"\n",
    "    start = f'{year-1}-12-31'\n",
    "    end = f'{year+1}-01-01'\n",
    "    data = ds.rename({time: 'time'}).sel(time=slice(start,end))\n",
    "    data = data.chunk({'time': -1}).transpose(*('time', 'lat', 'lon'))\n",
    "    if method == 'conservative':\n",
    "        regridded = regrid_conserve(data)\n",
    "    elif method == 'patch':\n",
    "        regridded = regrid_patch(data)\n",
    "    encoding = {'time':{'units': 'days since 1900-01-01T0:00:00',\n",
    "                        'calendar': 'gregorian', '_FillValue': 1e+20},\n",
    "                'lon': {'_FillValue': 1e+20},\n",
    "                'lat': {'_FillValue': 1e+20},\n",
    "                var: {'_FillValue': 1e+20},\n",
    "               }\n",
    "    regridded['lon'].attrs = {'axis': 'X', 'units': 'degrees_east', \n",
    "                              'long_name': 'Longitude', \n",
    "                              'standard_name': 'longitude'}\n",
    "    regridded['lat'].attrs = {'axis': 'Y', 'units': 'degrees_north', \n",
    "                              'long_name': 'Latitude', \n",
    "                              'standard_name': 'latitude'}\n",
    "    regridded['time'].attrs = {'axis': 'T'}\n",
    "    regridded.to_netcdf(f'{outputdir}/{var}_ERAinterim_{year}_OM4p5_{method}.nc', \n",
    "                        format='NETCDF3_64BIT',\n",
    "                        encoding=encoding, \n",
    "                        unlimited_dims=['time'])\n",
    "    return None"
   ]
  },
  {
   "cell_type": "markdown",
   "metadata": {},
   "source": [
    "## Regrid precips and radiative fluxes"
   ]
  },
  {
   "cell_type": "code",
   "execution_count": null,
   "metadata": {},
   "outputs": [],
   "source": [
    "firstyear=1980\n",
    "lastyear=2018"
   ]
  },
  {
   "cell_type": "code",
   "execution_count": null,
   "metadata": {},
   "outputs": [],
   "source": [
    "precip = xr.open_mfdataset(f'{erainterim_indir}/precip_ERAinterim_*_daily_ROMS.nc', combine='by_coords')\n",
    "precip_expanded = expand_time_serie(precip, 'rain_time')\n",
    "for year in range(firstyear,lastyear+1):\n",
    "    interp_and_save_year(precip_expanded,'rain','rain_time', year, erainterim_outdir)"
   ]
  },
  {
   "cell_type": "code",
   "execution_count": null,
   "metadata": {},
   "outputs": [],
   "source": [
    "snow = xr.open_mfdataset(f'{erainterim_indir}/snow_ERAinterim_*_daily_ROMS.nc', combine='by_coords')\n",
    "snow = snow.rename({'rain': 'snow'})\n",
    "snow_expanded = expand_time_serie(snow, 'rain_time')\n",
    "for year in range(firstyear,lastyear+1):\n",
    "    interp_and_save_year(snow_expanded,'snow','rain_time', year, erainterim_outdir)"
   ]
  },
  {
   "cell_type": "code",
   "execution_count": null,
   "metadata": {},
   "outputs": [],
   "source": [
    "radlw = xr.open_mfdataset(f'{erainterim_indir}/radlw_ERAinterim_*_daily_ROMS.nc', combine='by_coords')\n",
    "radlw_expanded = expand_time_serie(radlw, 'lrf_time')\n",
    "for year in range(firstyear,lastyear+1):\n",
    "    interp_and_save_year(radlw_expanded,'lwrad_down','lrf_time', year, erainterim_outdir)"
   ]
  },
  {
   "cell_type": "code",
   "execution_count": null,
   "metadata": {},
   "outputs": [],
   "source": [
    "radsw = xr.open_mfdataset(f'{erainterim_indir}/radsw_ERAinterim_*_daily_ROMS.nc', combine='by_coords')\n",
    "radsw_expanded = expand_time_serie(radsw, 'srf_time')\n",
    "for year in range(firstyear,lastyear+1):\n",
    "    interp_and_save_year(radsw_expanded,'swrad','srf_time', year, erainterim_outdir)"
   ]
  },
  {
   "cell_type": "markdown",
   "metadata": {},
   "source": [
    "## Regrid turb variables"
   ]
  },
  {
   "cell_type": "code",
   "execution_count": null,
   "metadata": {},
   "outputs": [],
   "source": [
    "tair = xr.open_mfdataset(f'{erainterim_indir}/t2_ERAinterim_*_ROMS.nc',\n",
    "                         combine='by_coords', chunks={'tair_time': 48})\n",
    "tair_expanded = expand_time_serie(tair, 'tair_time')\n",
    "tair_expanded['Tair'] = tair_expanded['Tair'] + 273.15\n",
    "for year in range(firstyear,lastyear+1):\n",
    "    interp_and_save_year(tair_expanded,'Tair','tair_time',\n",
    "                         year, erainterim_outdir,\n",
    "                         method='patch')"
   ]
  },
  {
   "cell_type": "code",
   "execution_count": null,
   "metadata": {},
   "outputs": [],
   "source": [
    "qair = xr.open_mfdataset(f'{erainterim_indir}/q2_ERAinterim_*_ROMS.nc',\n",
    "                         combine='by_coords', chunks={'qair_time': 48})\n",
    "qair_expanded = expand_time_serie(qair, 'qair_time')\n",
    "for year in range(firstyear,lastyear+1):\n",
    "    interp_and_save_year(qair_expanded,'Qair','qair_time',\n",
    "                         year, erainterim_outdir,\n",
    "                         method='patch')"
   ]
  },
  {
   "cell_type": "code",
   "execution_count": null,
   "metadata": {},
   "outputs": [],
   "source": [
    "pair = xr.open_mfdataset(f'{erainterim_indir}/msl_ERAinterim_*_ROMS.nc',\n",
    "                         combine='by_coords', chunks={'pair_time': 48})\n",
    "pair_expanded = expand_time_serie(pair, 'pair_time')\n",
    "for year in range(firstyear,lastyear+1):\n",
    "    interp_and_save_year(pair_expanded,'Pair','pair_time',\n",
    "                         year, erainterim_outdir,\n",
    "                         method='patch')"
   ]
  },
  {
   "cell_type": "code",
   "execution_count": null,
   "metadata": {},
   "outputs": [],
   "source": [
    "uwind = xr.open_mfdataset(f'{erainterim_indir}/u10_ERAinterim_*_ROMS.nc',\n",
    "                          combine='by_coords', chunks={'wind_time': 48})\n",
    "uwind_expanded = expand_time_serie(uwind, 'wind_time')\n",
    "for year in range(firstyear,lastyear+1):\n",
    "    interp_and_save_year(uwind_expanded,'Uwind','wind_time',\n",
    "                         year, erainterim_outdir,\n",
    "                         method='patch')"
   ]
  },
  {
   "cell_type": "code",
   "execution_count": null,
   "metadata": {},
   "outputs": [],
   "source": [
    "vwind = xr.open_mfdataset(f'{erainterim_indir}/v10_ERAinterim_*_ROMS.nc',\n",
    "                          combine='by_coords', chunks={'wind_time': 48})\n",
    "vwind_expanded = expand_time_serie(vwind, 'wind_time')\n",
    "for year in range(firstyear,lastyear+1):\n",
    "    interp_and_save_year(vwind_expanded,'Vwind','wind_time',\n",
    "                         year, erainterim_outdir,\n",
    "                         method='patch')"
   ]
  }
 ],
 "metadata": {
  "kernelspec": {
   "display_name": "Py3Ana",
   "language": "python",
   "name": "analysis"
  },
  "language_info": {
   "codemirror_mode": {
    "name": "ipython",
    "version": 3
   },
   "file_extension": ".py",
   "mimetype": "text/x-python",
   "name": "python",
   "nbconvert_exporter": "python",
   "pygments_lexer": "ipython3",
   "version": "3.6.7"
  }
 },
 "nbformat": 4,
 "nbformat_minor": 2
}
