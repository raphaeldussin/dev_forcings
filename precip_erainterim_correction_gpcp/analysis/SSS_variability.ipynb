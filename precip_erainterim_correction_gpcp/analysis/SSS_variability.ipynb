{
 "cells": [
  {
   "cell_type": "markdown",
   "id": "elementary-council",
   "metadata": {},
   "source": [
    "# SSS variability"
   ]
  },
  {
   "cell_type": "code",
   "execution_count": 1,
   "id": "published-cycling",
   "metadata": {},
   "outputs": [],
   "source": [
    "import xarray as xr\n",
    "import numpy as np\n",
    "import matplotlib.pyplot as plt\n",
    "import cartopy.crs as ccrs"
   ]
  },
  {
   "cell_type": "code",
   "execution_count": 2,
   "id": "becoming-twelve",
   "metadata": {},
   "outputs": [],
   "source": [
    "runsdir = '/archive/Raphael.Dussin/runs_forcings'"
   ]
  },
  {
   "cell_type": "code",
   "execution_count": 3,
   "id": "blank-trunk",
   "metadata": {},
   "outputs": [],
   "source": [
    "gpcp = xr.open_zarr(f'{runsdir}/OM4_05.GPCP/bug_rainsnow/ocean_daily', consolidated=True).chunk({'time': 365})"
   ]
  },
  {
   "cell_type": "code",
   "execution_count": 4,
   "id": "capital-retail",
   "metadata": {},
   "outputs": [],
   "source": [
    "cmt = xr.open_zarr(f'{runsdir}/OM4_05.BlendPrecip/ocean_daily', consolidated=True).chunk({'time': 365})"
   ]
  },
  {
   "cell_type": "code",
   "execution_count": 5,
   "id": "fleet-storm",
   "metadata": {},
   "outputs": [],
   "source": [
    "erai = xr.open_zarr(f'{runsdir}/OM4_05.ERAinterim/ocean_daily', consolidated=True).chunk({'time': 365})"
   ]
  },
  {
   "cell_type": "code",
   "execution_count": 6,
   "id": "changing-qualification",
   "metadata": {},
   "outputs": [],
   "source": [
    "gpcp_0netfw = xr.open_zarr(f'{runsdir}/OM4_05.GPCP_0netfw/bug_rainsnow/ocean_daily', consolidated=True).chunk({'time': 365})"
   ]
  },
  {
   "cell_type": "code",
   "execution_count": 7,
   "id": "civil-venue",
   "metadata": {},
   "outputs": [],
   "source": [
    "cmt_0netfw = xr.open_zarr(f'{runsdir}/OM4_05.Blend_precip_0netfw/ocean_daily', consolidated=True).chunk({'time': 365})"
   ]
  },
  {
   "cell_type": "code",
   "execution_count": 8,
   "id": "typical-playlist",
   "metadata": {},
   "outputs": [],
   "source": [
    "erai_0netfw = xr.open_zarr(f'{runsdir}/OM4_05.ERAinterim_0netfw/ocean_daily', consolidated=True).chunk({'time': 365})"
   ]
  },
  {
   "cell_type": "code",
   "execution_count": 9,
   "id": "varying-seventh",
   "metadata": {},
   "outputs": [],
   "source": [
    "grid = xr.open_zarr(f'{runsdir}/OM4_05.ERAinterim_0netfw/ocean_static', consolidated=True)"
   ]
  },
  {
   "cell_type": "code",
   "execution_count": null,
   "id": "serial-directory",
   "metadata": {
    "jupyter": {
     "source_hidden": true
    }
   },
   "outputs": [],
   "source": [
    "def rmse(ds, var=\"sos\"):\n",
    "    \"compute anomaly to each year and RMS\"\n",
    "    yearly_mean = ds[var].groupby(ds.time.dt.year).mean(dim=\"time\")\n",
    "    anom_to_yearly = ds[var].groupby(ds.time.dt.year) - yearly_mean\n",
    "    mse = (anom_to_yearly*anom_to_yearly).mean(dim='time')\n",
    "    rmse = xr.apply_ufunc(np.sqrt, mse, dask='parallelized',output_dtypes=mse.dtype)\n",
    "    return rmse"
   ]
  },
  {
   "cell_type": "code",
   "execution_count": 10,
   "id": "english-joyce",
   "metadata": {},
   "outputs": [],
   "source": [
    "def intra_monthly(ds, var=\"sos\"):\n",
    "    \"compute anomaly to each month and RMS\"\n",
    "    import pandas as pd\n",
    "    year_month_idx = pd.MultiIndex.from_arrays([ds.time.dt.year.values, ds.time.dt.month.values])\n",
    "    ds.coords['year_month'] = ('time', year_month_idx)\n",
    "    std_allmonth = ds[var].groupby('year_month').std(dim='time')\n",
    "    avg_std = std_allmonth.mean(dim='year_month')\n",
    "    return avg_std"
   ]
  },
  {
   "cell_type": "code",
   "execution_count": 11,
   "id": "rapid-request",
   "metadata": {},
   "outputs": [],
   "source": [
    "std_cmt = intra_monthly(cmt, var=\"sos\")\n",
    "std_cmt_0net = intra_monthly(cmt_0netfw, var=\"sos\")"
   ]
  },
  {
   "cell_type": "code",
   "execution_count": 12,
   "id": "union-sessions",
   "metadata": {},
   "outputs": [],
   "source": [
    "std_gpcp = intra_monthly(gpcp, var=\"sos\")\n",
    "std_gpcp_0net = intra_monthly(gpcp_0netfw, var=\"sos\")"
   ]
  },
  {
   "cell_type": "code",
   "execution_count": 13,
   "id": "helpful-prescription",
   "metadata": {},
   "outputs": [],
   "source": [
    "std_erai = intra_monthly(erai, var=\"sos\")\n",
    "std_erai_0net = intra_monthly(erai_0netfw, var=\"sos\")"
   ]
  },
  {
   "cell_type": "markdown",
   "id": "median-pizza",
   "metadata": {},
   "source": [
    "## Dask Cluster"
   ]
  },
  {
   "cell_type": "code",
   "execution_count": 14,
   "id": "discrete-facility",
   "metadata": {},
   "outputs": [
    {
     "data": {
      "text/html": [
       "<table style=\"border: 2px solid white;\">\n",
       "<tr>\n",
       "<td style=\"vertical-align: top; border: 0px solid white\">\n",
       "<h3 style=\"text-align: left;\">Client</h3>\n",
       "<ul style=\"text-align: left; list-style: none; margin: 0; padding: 0;\">\n",
       "  <li><b>Scheduler: </b>tcp://140.208.147.156:42045</li>\n",
       "  <li><b>Dashboard: </b><a href='http://140.208.147.156:28787/status' target='_blank'>http://140.208.147.156:28787/status</a></li>\n",
       "</ul>\n",
       "</td>\n",
       "<td style=\"vertical-align: top; border: 0px solid white\">\n",
       "<h3 style=\"text-align: left;\">Cluster</h3>\n",
       "<ul style=\"text-align: left; list-style:none; margin: 0; padding: 0;\">\n",
       "  <li><b>Workers: </b>16</li>\n",
       "  <li><b>Cores: </b>16</li>\n",
       "  <li><b>Memory: </b>96.00 GB</li>\n",
       "</ul>\n",
       "</td>\n",
       "</tr>\n",
       "</table>"
      ],
      "text/plain": [
       "<Client: 'tcp://140.208.147.156:42045' processes=16 threads=16, memory=96.00 GB>"
      ]
     },
     "execution_count": 14,
     "metadata": {},
     "output_type": "execute_result"
    }
   ],
   "source": [
    "from dask.distributed import Client\n",
    "\n",
    "client = Client(\"tcp://140.208.147.156:42045\")\n",
    "client"
   ]
  },
  {
   "cell_type": "code",
   "execution_count": 15,
   "id": "olive-miami",
   "metadata": {},
   "outputs": [
    {
     "ename": "KilledWorker",
     "evalue": "(\"('xarray-sos-f357325a65e96b6156fff42b93a5d660', 684, 0, 0)\", <Worker 'tcp://140.208.147.30:36569', name: 5-4, memory: 0, processing: 32>)",
     "output_type": "error",
     "traceback": [
      "\u001b[0;31m---------------------------------------------------------------------------\u001b[0m",
      "\u001b[0;31mKilledWorker\u001b[0m                              Traceback (most recent call last)",
      "\u001b[0;32m<ipython-input-15-7d489a5864fb>\u001b[0m in \u001b[0;36m<module>\u001b[0;34m\u001b[0m\n\u001b[1;32m      4\u001b[0m \u001b[0;34m\u001b[0m\u001b[0m\n\u001b[1;32m      5\u001b[0m \u001b[0m_\u001b[0m \u001b[0;34m=\u001b[0m \u001b[0mstd_cmt_0net\u001b[0m\u001b[0;34m.\u001b[0m\u001b[0mload\u001b[0m\u001b[0;34m(\u001b[0m\u001b[0;34m)\u001b[0m\u001b[0;34m\u001b[0m\u001b[0;34m\u001b[0m\u001b[0m\n\u001b[0;32m----> 6\u001b[0;31m \u001b[0m_\u001b[0m \u001b[0;34m=\u001b[0m \u001b[0mstd_gpcp_0net\u001b[0m\u001b[0;34m.\u001b[0m\u001b[0mload\u001b[0m\u001b[0;34m(\u001b[0m\u001b[0;34m)\u001b[0m\u001b[0;34m\u001b[0m\u001b[0;34m\u001b[0m\u001b[0m\n\u001b[0m\u001b[1;32m      7\u001b[0m \u001b[0m_\u001b[0m \u001b[0;34m=\u001b[0m \u001b[0mstd_erai_0net\u001b[0m\u001b[0;34m.\u001b[0m\u001b[0mload\u001b[0m\u001b[0;34m(\u001b[0m\u001b[0;34m)\u001b[0m\u001b[0;34m\u001b[0m\u001b[0;34m\u001b[0m\u001b[0m\n",
      "\u001b[0;32m/nbhome/Raphael.Dussin/anaconda3/envs/mackenzie/lib/python3.8/site-packages/xarray/core/dataarray.py\u001b[0m in \u001b[0;36mload\u001b[0;34m(self, **kwargs)\u001b[0m\n\u001b[1;32m    865\u001b[0m         \u001b[0mdask\u001b[0m\u001b[0;34m.\u001b[0m\u001b[0marray\u001b[0m\u001b[0;34m.\u001b[0m\u001b[0mcompute\u001b[0m\u001b[0;34m\u001b[0m\u001b[0;34m\u001b[0m\u001b[0m\n\u001b[1;32m    866\u001b[0m         \"\"\"\n\u001b[0;32m--> 867\u001b[0;31m         \u001b[0mds\u001b[0m \u001b[0;34m=\u001b[0m \u001b[0mself\u001b[0m\u001b[0;34m.\u001b[0m\u001b[0m_to_temp_dataset\u001b[0m\u001b[0;34m(\u001b[0m\u001b[0;34m)\u001b[0m\u001b[0;34m.\u001b[0m\u001b[0mload\u001b[0m\u001b[0;34m(\u001b[0m\u001b[0;34m**\u001b[0m\u001b[0mkwargs\u001b[0m\u001b[0;34m)\u001b[0m\u001b[0;34m\u001b[0m\u001b[0;34m\u001b[0m\u001b[0m\n\u001b[0m\u001b[1;32m    868\u001b[0m         \u001b[0mnew\u001b[0m \u001b[0;34m=\u001b[0m \u001b[0mself\u001b[0m\u001b[0;34m.\u001b[0m\u001b[0m_from_temp_dataset\u001b[0m\u001b[0;34m(\u001b[0m\u001b[0mds\u001b[0m\u001b[0;34m)\u001b[0m\u001b[0;34m\u001b[0m\u001b[0;34m\u001b[0m\u001b[0m\n\u001b[1;32m    869\u001b[0m         \u001b[0mself\u001b[0m\u001b[0;34m.\u001b[0m\u001b[0m_variable\u001b[0m \u001b[0;34m=\u001b[0m \u001b[0mnew\u001b[0m\u001b[0;34m.\u001b[0m\u001b[0m_variable\u001b[0m\u001b[0;34m\u001b[0m\u001b[0;34m\u001b[0m\u001b[0m\n",
      "\u001b[0;32m/nbhome/Raphael.Dussin/anaconda3/envs/mackenzie/lib/python3.8/site-packages/xarray/core/dataset.py\u001b[0m in \u001b[0;36mload\u001b[0;34m(self, **kwargs)\u001b[0m\n\u001b[1;32m    739\u001b[0m \u001b[0;34m\u001b[0m\u001b[0m\n\u001b[1;32m    740\u001b[0m             \u001b[0;31m# evaluate all the dask arrays simultaneously\u001b[0m\u001b[0;34m\u001b[0m\u001b[0;34m\u001b[0m\u001b[0;34m\u001b[0m\u001b[0m\n\u001b[0;32m--> 741\u001b[0;31m             \u001b[0mevaluated_data\u001b[0m \u001b[0;34m=\u001b[0m \u001b[0mda\u001b[0m\u001b[0;34m.\u001b[0m\u001b[0mcompute\u001b[0m\u001b[0;34m(\u001b[0m\u001b[0;34m*\u001b[0m\u001b[0mlazy_data\u001b[0m\u001b[0;34m.\u001b[0m\u001b[0mvalues\u001b[0m\u001b[0;34m(\u001b[0m\u001b[0;34m)\u001b[0m\u001b[0;34m,\u001b[0m \u001b[0;34m**\u001b[0m\u001b[0mkwargs\u001b[0m\u001b[0;34m)\u001b[0m\u001b[0;34m\u001b[0m\u001b[0;34m\u001b[0m\u001b[0m\n\u001b[0m\u001b[1;32m    742\u001b[0m \u001b[0;34m\u001b[0m\u001b[0m\n\u001b[1;32m    743\u001b[0m             \u001b[0;32mfor\u001b[0m \u001b[0mk\u001b[0m\u001b[0;34m,\u001b[0m \u001b[0mdata\u001b[0m \u001b[0;32min\u001b[0m \u001b[0mzip\u001b[0m\u001b[0;34m(\u001b[0m\u001b[0mlazy_data\u001b[0m\u001b[0;34m,\u001b[0m \u001b[0mevaluated_data\u001b[0m\u001b[0;34m)\u001b[0m\u001b[0;34m:\u001b[0m\u001b[0;34m\u001b[0m\u001b[0;34m\u001b[0m\u001b[0m\n",
      "\u001b[0;32m/nbhome/Raphael.Dussin/anaconda3/envs/mackenzie/lib/python3.8/site-packages/dask/base.py\u001b[0m in \u001b[0;36mcompute\u001b[0;34m(*args, **kwargs)\u001b[0m\n\u001b[1;32m    565\u001b[0m         \u001b[0mpostcomputes\u001b[0m\u001b[0;34m.\u001b[0m\u001b[0mappend\u001b[0m\u001b[0;34m(\u001b[0m\u001b[0mx\u001b[0m\u001b[0;34m.\u001b[0m\u001b[0m__dask_postcompute__\u001b[0m\u001b[0;34m(\u001b[0m\u001b[0;34m)\u001b[0m\u001b[0;34m)\u001b[0m\u001b[0;34m\u001b[0m\u001b[0;34m\u001b[0m\u001b[0m\n\u001b[1;32m    566\u001b[0m \u001b[0;34m\u001b[0m\u001b[0m\n\u001b[0;32m--> 567\u001b[0;31m     \u001b[0mresults\u001b[0m \u001b[0;34m=\u001b[0m \u001b[0mschedule\u001b[0m\u001b[0;34m(\u001b[0m\u001b[0mdsk\u001b[0m\u001b[0;34m,\u001b[0m \u001b[0mkeys\u001b[0m\u001b[0;34m,\u001b[0m \u001b[0;34m**\u001b[0m\u001b[0mkwargs\u001b[0m\u001b[0;34m)\u001b[0m\u001b[0;34m\u001b[0m\u001b[0;34m\u001b[0m\u001b[0m\n\u001b[0m\u001b[1;32m    568\u001b[0m     \u001b[0;32mreturn\u001b[0m \u001b[0mrepack\u001b[0m\u001b[0;34m(\u001b[0m\u001b[0;34m[\u001b[0m\u001b[0mf\u001b[0m\u001b[0;34m(\u001b[0m\u001b[0mr\u001b[0m\u001b[0;34m,\u001b[0m \u001b[0;34m*\u001b[0m\u001b[0ma\u001b[0m\u001b[0;34m)\u001b[0m \u001b[0;32mfor\u001b[0m \u001b[0mr\u001b[0m\u001b[0;34m,\u001b[0m \u001b[0;34m(\u001b[0m\u001b[0mf\u001b[0m\u001b[0;34m,\u001b[0m \u001b[0ma\u001b[0m\u001b[0;34m)\u001b[0m \u001b[0;32min\u001b[0m \u001b[0mzip\u001b[0m\u001b[0;34m(\u001b[0m\u001b[0mresults\u001b[0m\u001b[0;34m,\u001b[0m \u001b[0mpostcomputes\u001b[0m\u001b[0;34m)\u001b[0m\u001b[0;34m]\u001b[0m\u001b[0;34m)\u001b[0m\u001b[0;34m\u001b[0m\u001b[0;34m\u001b[0m\u001b[0m\n\u001b[1;32m    569\u001b[0m \u001b[0;34m\u001b[0m\u001b[0m\n",
      "\u001b[0;32m/nbhome/Raphael.Dussin/anaconda3/envs/mackenzie/lib/python3.8/site-packages/distributed/client.py\u001b[0m in \u001b[0;36mget\u001b[0;34m(self, dsk, keys, restrictions, loose_restrictions, resources, sync, asynchronous, direct, retries, priority, fifo_timeout, actors, **kwargs)\u001b[0m\n\u001b[1;32m   2674\u001b[0m                     \u001b[0mshould_rejoin\u001b[0m \u001b[0;34m=\u001b[0m \u001b[0;32mFalse\u001b[0m\u001b[0;34m\u001b[0m\u001b[0;34m\u001b[0m\u001b[0m\n\u001b[1;32m   2675\u001b[0m             \u001b[0;32mtry\u001b[0m\u001b[0;34m:\u001b[0m\u001b[0;34m\u001b[0m\u001b[0;34m\u001b[0m\u001b[0m\n\u001b[0;32m-> 2676\u001b[0;31m                 \u001b[0mresults\u001b[0m \u001b[0;34m=\u001b[0m \u001b[0mself\u001b[0m\u001b[0;34m.\u001b[0m\u001b[0mgather\u001b[0m\u001b[0;34m(\u001b[0m\u001b[0mpacked\u001b[0m\u001b[0;34m,\u001b[0m \u001b[0masynchronous\u001b[0m\u001b[0;34m=\u001b[0m\u001b[0masynchronous\u001b[0m\u001b[0;34m,\u001b[0m \u001b[0mdirect\u001b[0m\u001b[0;34m=\u001b[0m\u001b[0mdirect\u001b[0m\u001b[0;34m)\u001b[0m\u001b[0;34m\u001b[0m\u001b[0;34m\u001b[0m\u001b[0m\n\u001b[0m\u001b[1;32m   2677\u001b[0m             \u001b[0;32mfinally\u001b[0m\u001b[0;34m:\u001b[0m\u001b[0;34m\u001b[0m\u001b[0;34m\u001b[0m\u001b[0m\n\u001b[1;32m   2678\u001b[0m                 \u001b[0;32mfor\u001b[0m \u001b[0mf\u001b[0m \u001b[0;32min\u001b[0m \u001b[0mfutures\u001b[0m\u001b[0;34m.\u001b[0m\u001b[0mvalues\u001b[0m\u001b[0;34m(\u001b[0m\u001b[0;34m)\u001b[0m\u001b[0;34m:\u001b[0m\u001b[0;34m\u001b[0m\u001b[0;34m\u001b[0m\u001b[0m\n",
      "\u001b[0;32m/nbhome/Raphael.Dussin/anaconda3/envs/mackenzie/lib/python3.8/site-packages/distributed/client.py\u001b[0m in \u001b[0;36mgather\u001b[0;34m(self, futures, errors, direct, asynchronous)\u001b[0m\n\u001b[1;32m   1983\u001b[0m             \u001b[0;32melse\u001b[0m\u001b[0;34m:\u001b[0m\u001b[0;34m\u001b[0m\u001b[0;34m\u001b[0m\u001b[0m\n\u001b[1;32m   1984\u001b[0m                 \u001b[0mlocal_worker\u001b[0m \u001b[0;34m=\u001b[0m \u001b[0;32mNone\u001b[0m\u001b[0;34m\u001b[0m\u001b[0;34m\u001b[0m\u001b[0m\n\u001b[0;32m-> 1985\u001b[0;31m             return self.sync(\n\u001b[0m\u001b[1;32m   1986\u001b[0m                 \u001b[0mself\u001b[0m\u001b[0;34m.\u001b[0m\u001b[0m_gather\u001b[0m\u001b[0;34m,\u001b[0m\u001b[0;34m\u001b[0m\u001b[0;34m\u001b[0m\u001b[0m\n\u001b[1;32m   1987\u001b[0m                 \u001b[0mfutures\u001b[0m\u001b[0;34m,\u001b[0m\u001b[0;34m\u001b[0m\u001b[0;34m\u001b[0m\u001b[0m\n",
      "\u001b[0;32m/nbhome/Raphael.Dussin/anaconda3/envs/mackenzie/lib/python3.8/site-packages/distributed/client.py\u001b[0m in \u001b[0;36msync\u001b[0;34m(self, func, asynchronous, callback_timeout, *args, **kwargs)\u001b[0m\n\u001b[1;32m    829\u001b[0m             \u001b[0;32mreturn\u001b[0m \u001b[0mfuture\u001b[0m\u001b[0;34m\u001b[0m\u001b[0;34m\u001b[0m\u001b[0m\n\u001b[1;32m    830\u001b[0m         \u001b[0;32melse\u001b[0m\u001b[0;34m:\u001b[0m\u001b[0;34m\u001b[0m\u001b[0;34m\u001b[0m\u001b[0m\n\u001b[0;32m--> 831\u001b[0;31m             return sync(\n\u001b[0m\u001b[1;32m    832\u001b[0m                 \u001b[0mself\u001b[0m\u001b[0;34m.\u001b[0m\u001b[0mloop\u001b[0m\u001b[0;34m,\u001b[0m \u001b[0mfunc\u001b[0m\u001b[0;34m,\u001b[0m \u001b[0;34m*\u001b[0m\u001b[0margs\u001b[0m\u001b[0;34m,\u001b[0m \u001b[0mcallback_timeout\u001b[0m\u001b[0;34m=\u001b[0m\u001b[0mcallback_timeout\u001b[0m\u001b[0;34m,\u001b[0m \u001b[0;34m**\u001b[0m\u001b[0mkwargs\u001b[0m\u001b[0;34m\u001b[0m\u001b[0;34m\u001b[0m\u001b[0m\n\u001b[1;32m    833\u001b[0m             )\n",
      "\u001b[0;32m/nbhome/Raphael.Dussin/anaconda3/envs/mackenzie/lib/python3.8/site-packages/distributed/utils.py\u001b[0m in \u001b[0;36msync\u001b[0;34m(loop, func, callback_timeout, *args, **kwargs)\u001b[0m\n\u001b[1;32m    338\u001b[0m     \u001b[0;32mif\u001b[0m \u001b[0merror\u001b[0m\u001b[0;34m[\u001b[0m\u001b[0;36m0\u001b[0m\u001b[0;34m]\u001b[0m\u001b[0;34m:\u001b[0m\u001b[0;34m\u001b[0m\u001b[0;34m\u001b[0m\u001b[0m\n\u001b[1;32m    339\u001b[0m         \u001b[0mtyp\u001b[0m\u001b[0;34m,\u001b[0m \u001b[0mexc\u001b[0m\u001b[0;34m,\u001b[0m \u001b[0mtb\u001b[0m \u001b[0;34m=\u001b[0m \u001b[0merror\u001b[0m\u001b[0;34m[\u001b[0m\u001b[0;36m0\u001b[0m\u001b[0;34m]\u001b[0m\u001b[0;34m\u001b[0m\u001b[0;34m\u001b[0m\u001b[0m\n\u001b[0;32m--> 340\u001b[0;31m         \u001b[0;32mraise\u001b[0m \u001b[0mexc\u001b[0m\u001b[0;34m.\u001b[0m\u001b[0mwith_traceback\u001b[0m\u001b[0;34m(\u001b[0m\u001b[0mtb\u001b[0m\u001b[0;34m)\u001b[0m\u001b[0;34m\u001b[0m\u001b[0;34m\u001b[0m\u001b[0m\n\u001b[0m\u001b[1;32m    341\u001b[0m     \u001b[0;32melse\u001b[0m\u001b[0;34m:\u001b[0m\u001b[0;34m\u001b[0m\u001b[0;34m\u001b[0m\u001b[0m\n\u001b[1;32m    342\u001b[0m         \u001b[0;32mreturn\u001b[0m \u001b[0mresult\u001b[0m\u001b[0;34m[\u001b[0m\u001b[0;36m0\u001b[0m\u001b[0;34m]\u001b[0m\u001b[0;34m\u001b[0m\u001b[0;34m\u001b[0m\u001b[0m\n",
      "\u001b[0;32m/nbhome/Raphael.Dussin/anaconda3/envs/mackenzie/lib/python3.8/site-packages/distributed/utils.py\u001b[0m in \u001b[0;36mf\u001b[0;34m()\u001b[0m\n\u001b[1;32m    322\u001b[0m             \u001b[0;32mif\u001b[0m \u001b[0mcallback_timeout\u001b[0m \u001b[0;32mis\u001b[0m \u001b[0;32mnot\u001b[0m \u001b[0;32mNone\u001b[0m\u001b[0;34m:\u001b[0m\u001b[0;34m\u001b[0m\u001b[0;34m\u001b[0m\u001b[0m\n\u001b[1;32m    323\u001b[0m                 \u001b[0mfuture\u001b[0m \u001b[0;34m=\u001b[0m \u001b[0masyncio\u001b[0m\u001b[0;34m.\u001b[0m\u001b[0mwait_for\u001b[0m\u001b[0;34m(\u001b[0m\u001b[0mfuture\u001b[0m\u001b[0;34m,\u001b[0m \u001b[0mcallback_timeout\u001b[0m\u001b[0;34m)\u001b[0m\u001b[0;34m\u001b[0m\u001b[0;34m\u001b[0m\u001b[0m\n\u001b[0;32m--> 324\u001b[0;31m             \u001b[0mresult\u001b[0m\u001b[0;34m[\u001b[0m\u001b[0;36m0\u001b[0m\u001b[0;34m]\u001b[0m \u001b[0;34m=\u001b[0m \u001b[0;32myield\u001b[0m \u001b[0mfuture\u001b[0m\u001b[0;34m\u001b[0m\u001b[0;34m\u001b[0m\u001b[0m\n\u001b[0m\u001b[1;32m    325\u001b[0m         \u001b[0;32mexcept\u001b[0m \u001b[0mException\u001b[0m \u001b[0;32mas\u001b[0m \u001b[0mexc\u001b[0m\u001b[0;34m:\u001b[0m\u001b[0;34m\u001b[0m\u001b[0;34m\u001b[0m\u001b[0m\n\u001b[1;32m    326\u001b[0m             \u001b[0merror\u001b[0m\u001b[0;34m[\u001b[0m\u001b[0;36m0\u001b[0m\u001b[0;34m]\u001b[0m \u001b[0;34m=\u001b[0m \u001b[0msys\u001b[0m\u001b[0;34m.\u001b[0m\u001b[0mexc_info\u001b[0m\u001b[0;34m(\u001b[0m\u001b[0;34m)\u001b[0m\u001b[0;34m\u001b[0m\u001b[0;34m\u001b[0m\u001b[0m\n",
      "\u001b[0;32m/nbhome/Raphael.Dussin/anaconda3/envs/mackenzie/lib/python3.8/site-packages/tornado/gen.py\u001b[0m in \u001b[0;36mrun\u001b[0;34m(self)\u001b[0m\n\u001b[1;32m    760\u001b[0m \u001b[0;34m\u001b[0m\u001b[0m\n\u001b[1;32m    761\u001b[0m                     \u001b[0;32mtry\u001b[0m\u001b[0;34m:\u001b[0m\u001b[0;34m\u001b[0m\u001b[0;34m\u001b[0m\u001b[0m\n\u001b[0;32m--> 762\u001b[0;31m                         \u001b[0mvalue\u001b[0m \u001b[0;34m=\u001b[0m \u001b[0mfuture\u001b[0m\u001b[0;34m.\u001b[0m\u001b[0mresult\u001b[0m\u001b[0;34m(\u001b[0m\u001b[0;34m)\u001b[0m\u001b[0;34m\u001b[0m\u001b[0;34m\u001b[0m\u001b[0m\n\u001b[0m\u001b[1;32m    763\u001b[0m                     \u001b[0;32mexcept\u001b[0m \u001b[0mException\u001b[0m\u001b[0;34m:\u001b[0m\u001b[0;34m\u001b[0m\u001b[0;34m\u001b[0m\u001b[0m\n\u001b[1;32m    764\u001b[0m                         \u001b[0mexc_info\u001b[0m \u001b[0;34m=\u001b[0m \u001b[0msys\u001b[0m\u001b[0;34m.\u001b[0m\u001b[0mexc_info\u001b[0m\u001b[0;34m(\u001b[0m\u001b[0;34m)\u001b[0m\u001b[0;34m\u001b[0m\u001b[0;34m\u001b[0m\u001b[0m\n",
      "\u001b[0;32m/nbhome/Raphael.Dussin/anaconda3/envs/mackenzie/lib/python3.8/site-packages/distributed/client.py\u001b[0m in \u001b[0;36m_gather\u001b[0;34m(self, futures, errors, direct, local_worker)\u001b[0m\n\u001b[1;32m   1848\u001b[0m                             \u001b[0mexc\u001b[0m \u001b[0;34m=\u001b[0m \u001b[0mCancelledError\u001b[0m\u001b[0;34m(\u001b[0m\u001b[0mkey\u001b[0m\u001b[0;34m)\u001b[0m\u001b[0;34m\u001b[0m\u001b[0;34m\u001b[0m\u001b[0m\n\u001b[1;32m   1849\u001b[0m                         \u001b[0;32melse\u001b[0m\u001b[0;34m:\u001b[0m\u001b[0;34m\u001b[0m\u001b[0;34m\u001b[0m\u001b[0m\n\u001b[0;32m-> 1850\u001b[0;31m                             \u001b[0;32mraise\u001b[0m \u001b[0mexception\u001b[0m\u001b[0;34m.\u001b[0m\u001b[0mwith_traceback\u001b[0m\u001b[0;34m(\u001b[0m\u001b[0mtraceback\u001b[0m\u001b[0;34m)\u001b[0m\u001b[0;34m\u001b[0m\u001b[0;34m\u001b[0m\u001b[0m\n\u001b[0m\u001b[1;32m   1851\u001b[0m                         \u001b[0;32mraise\u001b[0m \u001b[0mexc\u001b[0m\u001b[0;34m\u001b[0m\u001b[0;34m\u001b[0m\u001b[0m\n\u001b[1;32m   1852\u001b[0m                     \u001b[0;32mif\u001b[0m \u001b[0merrors\u001b[0m \u001b[0;34m==\u001b[0m \u001b[0;34m\"skip\"\u001b[0m\u001b[0;34m:\u001b[0m\u001b[0;34m\u001b[0m\u001b[0;34m\u001b[0m\u001b[0m\n",
      "\u001b[0;31mKilledWorker\u001b[0m: (\"('xarray-sos-f357325a65e96b6156fff42b93a5d660', 684, 0, 0)\", <Worker 'tcp://140.208.147.30:36569', name: 5-4, memory: 0, processing: 32>)"
     ]
    }
   ],
   "source": [
    "_ = std_cmt.load()\n",
    "_ = std_gpcp.load()\n",
    "_ = std_erai.load()\n",
    "\n",
    "_ = std_cmt_0net.load()\n",
    "_ = std_gpcp_0net.load()\n",
    "_ = std_erai_0net.load()"
   ]
  },
  {
   "cell_type": "code",
   "execution_count": null,
   "id": "electoral-childhood",
   "metadata": {},
   "outputs": [],
   "source": [
    "#std_cmt.plot(figsize=[12,10], vmin=0, vmax=0.15)"
   ]
  },
  {
   "cell_type": "code",
   "execution_count": null,
   "id": "second-canadian",
   "metadata": {},
   "outputs": [],
   "source": [
    "#std_gpcp.plot(figsize=[12,10], vmin=0, vmax=0.15)"
   ]
  },
  {
   "cell_type": "code",
   "execution_count": null,
   "id": "electrical-fountain",
   "metadata": {},
   "outputs": [],
   "source": [
    "fig, axs = plt.subplots(ncols=2, nrows=3, figsize=(10, 9),\n",
    "                        subplot_kw=dict(projection=ccrs.Robinson(central_longitude=205)))\n",
    "gs = axs[1, 1].get_gridspec()\n",
    "\n",
    "# remove the underlying axes\n",
    "for ax in axs[0, 0:]:\n",
    "    ax.remove()\n",
    "#axbig = fig.add_subplot(gs[0, 0:], projection=ccrs.Robinson(central_longitude=205))\n",
    "axbig = fig.add_subplot(gs[0, 0:])\n",
    "\n",
    "#axbig.pcolormesh(WOA_SSS.lon, WOA_SSS.lat, WOA_SSS.squeeze(),\n",
    "#                 cmap=cmocean.cm.haline, vmin=30, vmax=40, transform=ccrs.PlateCarree())\n",
    "\n",
    "C1 = axs[1,0].pcolormesh(grid.geolon_c, grid.geolat_c, (std_erai - std_gpcp).values,\n",
    "                    cmap='bwr', vmin=-0.02, vmax=0.02, transform=ccrs.PlateCarree())\n",
    "\n",
    "cbar = plt.colorbar(C1, orientation='horizontal', ticks=[-0.02,-0.01,0,0.01,0.02])\n",
    "cbar.ax.xaxis.set_ticks_position('top')\n",
    "cbar.ax.set_xticklabels(['-0.02', '-0.01', '0', '0.01', '0.02'], fontsize=20)\n",
    "\n",
    "axs[1,1].pcolormesh(grid.geolon_c, grid.geolat_c, (std_cmt - std_gpcp).values,\n",
    "                    cmap='bwr', vmin=-0.02, vmax=0.02, transform=ccrs.PlateCarree())\n",
    "\n",
    "axs[2,0].pcolormesh(grid.geolon_c, grid.geolat_c, (std_erai - std_erai_0net).values,\n",
    "                    cmap='bwr', vmin=-0.02, vmax=0.02, transform=ccrs.PlateCarree())\n",
    "\n",
    "axs[2,1].pcolormesh(grid.geolon_c, grid.geolat_c, (std_cmt - std_cmt_0net).values,\n",
    "                    cmap='bwr', vmin=-0.02, vmax=0.02, transform=ccrs.PlateCarree())\n",
    "\n",
    "\n",
    "\n",
    "#axs[3,0].pcolormesh(SSS_bias_GPCP.lon, SSS_bias_GPCP.lat, SSS_bias_GPCP.squeeze(),\n",
    "#                    cmap='bwr', vmin=-2, vmax=2, transform=ccrs.PlateCarree())\n",
    "#axs[3,1].pcolormesh(SSS_bias_GPCP0.lon, SSS_bias_GPCP0.lat, SSS_bias_GPCP0.squeeze(),\n",
    "#                    cmap='bwr', vmin=-2, vmax=2, transform=ccrs.PlateCarree())\n",
    "\n",
    "\n",
    "# hide the big plot so we only see the colorbar\n",
    "axbig.set_visible(False)\n",
    "\n",
    "axs[1,0].coastlines()\n",
    "axs[1,1].coastlines()\n",
    "axs[2,0].coastlines()\n",
    "axs[2,1].coastlines()\n",
    "#axs[3,0].coastlines()\n",
    "#axs[3,1].coastlines()\n",
    "\n",
    "axs[1,0].set_facecolor([0.5,0.5,0.5])\n",
    "axs[1,1].set_facecolor([0.5,0.5,0.5])\n",
    "axs[2,0].set_facecolor([0.5,0.5,0.5])\n",
    "axs[2,1].set_facecolor([0.5,0.5,0.5])\n",
    "#axs[3,0].set_facecolor([0.5,0.5,0.5])\n",
    "#axs[3,1].set_facecolor([0.5,0.5,0.5])\n",
    "\n",
    "axs[1,0].set_title('ERAi - GPCP', fontsize=20, weight='bold')\n",
    "axs[1,1].set_title('CMT - GPCP', fontsize=20, weight='bold')\n",
    "axs[2,0].set_title('ERAi - ERAi0FW', fontsize=20, weight='bold')\n",
    "axs[2,1].set_title('CMT - CMT0FW', fontsize=20, weight='bold')\n",
    "\n",
    "axs[1,0].text(15, -65, '$(a)$',\n",
    "            verticalalignment='top',\n",
    "            horizontalalignment='left',\n",
    "            transform=ccrs.PlateCarree(),\n",
    "            bbox={'facecolor': 'black'},\n",
    "            color='white', fontsize=20)\n",
    "\n",
    "axs[1,1].text(15, -65, '$(b)$',\n",
    "            verticalalignment='top',\n",
    "            horizontalalignment='left',\n",
    "            transform=ccrs.PlateCarree(),\n",
    "            bbox={'facecolor': 'black'},\n",
    "            color='white', fontsize=20)\n",
    "\n",
    "axs[2,0].text(15, -65, '$(c)$',\n",
    "            verticalalignment='top',\n",
    "            horizontalalignment='left',\n",
    "            transform=ccrs.PlateCarree(),\n",
    "            bbox={'facecolor': 'black'},\n",
    "            color='white', fontsize=20)\n",
    "\n",
    "axs[2,1].text(15, -65, '$(d)$',\n",
    "            verticalalignment='top',\n",
    "            horizontalalignment='left',\n",
    "            transform=ccrs.PlateCarree(),\n",
    "            bbox={'facecolor': 'black'},\n",
    "            color='white', fontsize=20)\n",
    "\n",
    "plt.savefig('SSS_variance_intra_month_multi.png', bbox_inches='tight', facecolor='w', edgecolor='w', transparent=False)"
   ]
  },
  {
   "cell_type": "code",
   "execution_count": 123,
   "id": "drawn-sunday",
   "metadata": {},
   "outputs": [],
   "source": [
    "#(std_cmt - std_gpcp).plot(figsize=[16,10], vmin=-0.02, vmax=0.02, cmap='bwr')"
   ]
  },
  {
   "cell_type": "code",
   "execution_count": 124,
   "id": "important-browser",
   "metadata": {},
   "outputs": [],
   "source": [
    "#(std_cmt - std_cmt_0net).plot(figsize=[16,10], vmin=-0.02, vmax=0.02, cmap='bwr')"
   ]
  },
  {
   "cell_type": "code",
   "execution_count": 125,
   "id": "relative-sharp",
   "metadata": {},
   "outputs": [],
   "source": [
    "#(std_erai - std_erai_0net).plot(figsize=[16,10], vmin=-0.02, vmax=0.02, cmap='bwr')"
   ]
  },
  {
   "cell_type": "code",
   "execution_count": 126,
   "id": "floral-savage",
   "metadata": {},
   "outputs": [],
   "source": [
    "#(std_gpcp - std_gpcp_0net).plot(figsize=[16,10], vmin=-0.02, vmax=0.02, cmap='bwr')"
   ]
  },
  {
   "cell_type": "code",
   "execution_count": 127,
   "id": "aboriginal-cooler",
   "metadata": {},
   "outputs": [],
   "source": [
    "#(std_erai - std_cmt).plot(figsize=[16,10], vmin=-0.02, vmax=0.02, cmap='bwr')"
   ]
  },
  {
   "cell_type": "code",
   "execution_count": 128,
   "id": "binding-plymouth",
   "metadata": {},
   "outputs": [],
   "source": [
    "#(std_erai - std_gpcp).plot(figsize=[16,10], vmin=-0.02, vmax=0.02, cmap='bwr')"
   ]
  },
  {
   "cell_type": "code",
   "execution_count": 129,
   "id": "technical-alias",
   "metadata": {},
   "outputs": [],
   "source": [
    "#(std_erai_0net - std_gpcp_0net).plot(figsize=[16,10], vmin=-0.02, vmax=0.02, cmap='bwr')"
   ]
  },
  {
   "cell_type": "code",
   "execution_count": null,
   "id": "derived-integrity",
   "metadata": {},
   "outputs": [],
   "source": []
  }
 ],
 "metadata": {
  "kernelspec": {
   "display_name": "Mackenzie",
   "language": "python",
   "name": "mackenzie"
  },
  "language_info": {
   "codemirror_mode": {
    "name": "ipython",
    "version": 3
   },
   "file_extension": ".py",
   "mimetype": "text/x-python",
   "name": "python",
   "nbconvert_exporter": "python",
   "pygments_lexer": "ipython3",
   "version": "3.8.6"
  }
 },
 "nbformat": 4,
 "nbformat_minor": 5
}
